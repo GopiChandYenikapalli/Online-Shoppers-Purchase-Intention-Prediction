{
 "cells": [
  {
   "cell_type": "markdown",
   "id": "fa278887",
   "metadata": {},
   "source": [
    "Gopi Chand Yenikapalli"
   ]
  },
  {
   "cell_type": "markdown",
   "id": "e5d9ca1c",
   "metadata": {},
   "source": [
    "# Business Scenario:\n",
    "\n",
    "A new company has entered the market and is looking to increase its sales by launching marketing campaigns to reach potential customers. The company is focused on building its own brand and wants to ensure that it is targeting the audience and ready to spend its maximum marketing budget.\n",
    "\n",
    "To achieve this, the company plans to use a machine learning model to identify potential customers who are likely to make a purchase on their website. The company has collected data on visitors to their website, including the number of pages viewed, the time spent on the website, the type of visitor, and the location of the visitor."
   ]
  },
  {
   "cell_type": "markdown",
   "id": "882e1771",
   "metadata": {},
   "source": [
    "# 1.0 Setup"
   ]
  },
  {
   "cell_type": "code",
   "execution_count": 1,
   "id": "fde91204",
   "metadata": {},
   "outputs": [
    {
     "name": "stderr",
     "output_type": "stream",
     "text": [
      "C:\\Users\\Gopi Chand\\anaconda3\\lib\\site-packages\\xgboost\\compat.py:36: FutureWarning: pandas.Int64Index is deprecated and will be removed from pandas in a future version. Use pandas.Index with the appropriate dtype instead.\n",
      "  from pandas import MultiIndex, Int64Index\n"
     ]
    }
   ],
   "source": [
    "# Import all required libraries\n",
    "import pandas as pd\n",
    "from sklearn.svm import SVC\n",
    "from matplotlib import pyplot as plt\n",
    "import numpy as np\n",
    "from sklearn.metrics import confusion_matrix\n",
    "from sklearn.model_selection import train_test_split\n",
    "from sklearn import preprocessing\n",
    "from sklearn.linear_model import LogisticRegression\n",
    "from sklearn.preprocessing import LabelEncoder, OneHotEncoder\n",
    "from sklearn.model_selection import GridSearchCV, RandomizedSearchCV\n",
    "from sklearn.svm import SVC\n",
    "from sklearn.tree import DecisionTreeClassifier\n",
    "from sklearn.metrics import confusion_matrix, accuracy_score, precision_score, recall_score, f1_score\n",
    "from xgboost import XGBClassifier\n",
    "from sklearn.ensemble import RandomForestClassifier, GradientBoostingClassifier, AdaBoostClassifier\n",
    "from imblearn.over_sampling import RandomOverSampler\n",
    "import seaborn as sns\n",
    "from sklearn.preprocessing import StandardScaler\n",
    "np.random.seed(1)"
   ]
  },
  {
   "cell_type": "markdown",
   "id": "25f8dfbc",
   "metadata": {},
   "source": [
    "# 2.0 Load the Data"
   ]
  },
  {
   "cell_type": "code",
   "execution_count": 2,
   "id": "a4ecc045",
   "metadata": {},
   "outputs": [
    {
     "name": "stdout",
     "output_type": "stream",
     "text": [
      "C:\\Users\\Gopi Chand\\OneDrive - University of South Florida\\Desktop\\DSP\\Assignments\\Assignment-1\n"
     ]
    }
   ],
   "source": [
    "import os\n",
    "print(os.getcwd())"
   ]
  },
  {
   "cell_type": "code",
   "execution_count": 3,
   "id": "d976e400",
   "metadata": {},
   "outputs": [
    {
     "data": {
      "text/html": [
       "<div>\n",
       "<style scoped>\n",
       "    .dataframe tbody tr th:only-of-type {\n",
       "        vertical-align: middle;\n",
       "    }\n",
       "\n",
       "    .dataframe tbody tr th {\n",
       "        vertical-align: top;\n",
       "    }\n",
       "\n",
       "    .dataframe thead th {\n",
       "        text-align: right;\n",
       "    }\n",
       "</style>\n",
       "<table border=\"1\" class=\"dataframe\">\n",
       "  <thead>\n",
       "    <tr style=\"text-align: right;\">\n",
       "      <th></th>\n",
       "      <th>Administrative</th>\n",
       "      <th>Administrative_Duration</th>\n",
       "      <th>Informational</th>\n",
       "      <th>Informational_Duration</th>\n",
       "      <th>ProductRelated</th>\n",
       "      <th>ProductRelated_Duration</th>\n",
       "      <th>BounceRates</th>\n",
       "      <th>ExitRates</th>\n",
       "      <th>PageValues</th>\n",
       "      <th>SpecialDay</th>\n",
       "      <th>Month</th>\n",
       "      <th>OperatingSystems</th>\n",
       "      <th>Browser</th>\n",
       "      <th>Region</th>\n",
       "      <th>TrafficType</th>\n",
       "      <th>VisitorType</th>\n",
       "      <th>Weekend</th>\n",
       "      <th>Revenue</th>\n",
       "    </tr>\n",
       "  </thead>\n",
       "  <tbody>\n",
       "    <tr>\n",
       "      <th>0</th>\n",
       "      <td>0</td>\n",
       "      <td>0.0</td>\n",
       "      <td>0</td>\n",
       "      <td>0.0</td>\n",
       "      <td>1</td>\n",
       "      <td>0.000000</td>\n",
       "      <td>0.200000</td>\n",
       "      <td>0.200000</td>\n",
       "      <td>0.0</td>\n",
       "      <td>0.0</td>\n",
       "      <td>Feb</td>\n",
       "      <td>1</td>\n",
       "      <td>1</td>\n",
       "      <td>1</td>\n",
       "      <td>1</td>\n",
       "      <td>Returning_Visitor</td>\n",
       "      <td>False</td>\n",
       "      <td>False</td>\n",
       "    </tr>\n",
       "    <tr>\n",
       "      <th>1</th>\n",
       "      <td>0</td>\n",
       "      <td>0.0</td>\n",
       "      <td>0</td>\n",
       "      <td>0.0</td>\n",
       "      <td>2</td>\n",
       "      <td>64.000000</td>\n",
       "      <td>0.000000</td>\n",
       "      <td>0.100000</td>\n",
       "      <td>0.0</td>\n",
       "      <td>0.0</td>\n",
       "      <td>Feb</td>\n",
       "      <td>2</td>\n",
       "      <td>2</td>\n",
       "      <td>1</td>\n",
       "      <td>2</td>\n",
       "      <td>Returning_Visitor</td>\n",
       "      <td>False</td>\n",
       "      <td>False</td>\n",
       "    </tr>\n",
       "    <tr>\n",
       "      <th>2</th>\n",
       "      <td>0</td>\n",
       "      <td>0.0</td>\n",
       "      <td>0</td>\n",
       "      <td>0.0</td>\n",
       "      <td>1</td>\n",
       "      <td>0.000000</td>\n",
       "      <td>0.200000</td>\n",
       "      <td>0.200000</td>\n",
       "      <td>0.0</td>\n",
       "      <td>0.0</td>\n",
       "      <td>Feb</td>\n",
       "      <td>4</td>\n",
       "      <td>1</td>\n",
       "      <td>9</td>\n",
       "      <td>3</td>\n",
       "      <td>Returning_Visitor</td>\n",
       "      <td>False</td>\n",
       "      <td>False</td>\n",
       "    </tr>\n",
       "    <tr>\n",
       "      <th>3</th>\n",
       "      <td>0</td>\n",
       "      <td>0.0</td>\n",
       "      <td>0</td>\n",
       "      <td>0.0</td>\n",
       "      <td>2</td>\n",
       "      <td>2.666667</td>\n",
       "      <td>0.050000</td>\n",
       "      <td>0.140000</td>\n",
       "      <td>0.0</td>\n",
       "      <td>0.0</td>\n",
       "      <td>Feb</td>\n",
       "      <td>3</td>\n",
       "      <td>2</td>\n",
       "      <td>2</td>\n",
       "      <td>4</td>\n",
       "      <td>Returning_Visitor</td>\n",
       "      <td>False</td>\n",
       "      <td>False</td>\n",
       "    </tr>\n",
       "    <tr>\n",
       "      <th>4</th>\n",
       "      <td>0</td>\n",
       "      <td>0.0</td>\n",
       "      <td>0</td>\n",
       "      <td>0.0</td>\n",
       "      <td>10</td>\n",
       "      <td>627.500000</td>\n",
       "      <td>0.020000</td>\n",
       "      <td>0.050000</td>\n",
       "      <td>0.0</td>\n",
       "      <td>0.0</td>\n",
       "      <td>Feb</td>\n",
       "      <td>3</td>\n",
       "      <td>3</td>\n",
       "      <td>1</td>\n",
       "      <td>4</td>\n",
       "      <td>Returning_Visitor</td>\n",
       "      <td>True</td>\n",
       "      <td>False</td>\n",
       "    </tr>\n",
       "    <tr>\n",
       "      <th>5</th>\n",
       "      <td>0</td>\n",
       "      <td>0.0</td>\n",
       "      <td>0</td>\n",
       "      <td>0.0</td>\n",
       "      <td>19</td>\n",
       "      <td>154.216667</td>\n",
       "      <td>0.015789</td>\n",
       "      <td>0.024561</td>\n",
       "      <td>0.0</td>\n",
       "      <td>0.0</td>\n",
       "      <td>Feb</td>\n",
       "      <td>2</td>\n",
       "      <td>2</td>\n",
       "      <td>1</td>\n",
       "      <td>3</td>\n",
       "      <td>Returning_Visitor</td>\n",
       "      <td>False</td>\n",
       "      <td>False</td>\n",
       "    </tr>\n",
       "    <tr>\n",
       "      <th>6</th>\n",
       "      <td>0</td>\n",
       "      <td>0.0</td>\n",
       "      <td>0</td>\n",
       "      <td>0.0</td>\n",
       "      <td>1</td>\n",
       "      <td>0.000000</td>\n",
       "      <td>0.200000</td>\n",
       "      <td>0.200000</td>\n",
       "      <td>0.0</td>\n",
       "      <td>0.4</td>\n",
       "      <td>Feb</td>\n",
       "      <td>2</td>\n",
       "      <td>4</td>\n",
       "      <td>3</td>\n",
       "      <td>3</td>\n",
       "      <td>Returning_Visitor</td>\n",
       "      <td>False</td>\n",
       "      <td>False</td>\n",
       "    </tr>\n",
       "    <tr>\n",
       "      <th>7</th>\n",
       "      <td>1</td>\n",
       "      <td>0.0</td>\n",
       "      <td>0</td>\n",
       "      <td>0.0</td>\n",
       "      <td>0</td>\n",
       "      <td>0.000000</td>\n",
       "      <td>0.200000</td>\n",
       "      <td>0.200000</td>\n",
       "      <td>0.0</td>\n",
       "      <td>0.0</td>\n",
       "      <td>Feb</td>\n",
       "      <td>1</td>\n",
       "      <td>2</td>\n",
       "      <td>1</td>\n",
       "      <td>5</td>\n",
       "      <td>Returning_Visitor</td>\n",
       "      <td>True</td>\n",
       "      <td>False</td>\n",
       "    </tr>\n",
       "    <tr>\n",
       "      <th>8</th>\n",
       "      <td>0</td>\n",
       "      <td>0.0</td>\n",
       "      <td>0</td>\n",
       "      <td>0.0</td>\n",
       "      <td>2</td>\n",
       "      <td>37.000000</td>\n",
       "      <td>0.000000</td>\n",
       "      <td>0.100000</td>\n",
       "      <td>0.0</td>\n",
       "      <td>0.8</td>\n",
       "      <td>Feb</td>\n",
       "      <td>2</td>\n",
       "      <td>2</td>\n",
       "      <td>2</td>\n",
       "      <td>3</td>\n",
       "      <td>Returning_Visitor</td>\n",
       "      <td>False</td>\n",
       "      <td>False</td>\n",
       "    </tr>\n",
       "    <tr>\n",
       "      <th>9</th>\n",
       "      <td>0</td>\n",
       "      <td>0.0</td>\n",
       "      <td>0</td>\n",
       "      <td>0.0</td>\n",
       "      <td>3</td>\n",
       "      <td>738.000000</td>\n",
       "      <td>0.000000</td>\n",
       "      <td>0.022222</td>\n",
       "      <td>0.0</td>\n",
       "      <td>0.4</td>\n",
       "      <td>Feb</td>\n",
       "      <td>2</td>\n",
       "      <td>4</td>\n",
       "      <td>1</td>\n",
       "      <td>2</td>\n",
       "      <td>Returning_Visitor</td>\n",
       "      <td>False</td>\n",
       "      <td>False</td>\n",
       "    </tr>\n",
       "    <tr>\n",
       "      <th>10</th>\n",
       "      <td>0</td>\n",
       "      <td>0.0</td>\n",
       "      <td>0</td>\n",
       "      <td>0.0</td>\n",
       "      <td>3</td>\n",
       "      <td>395.000000</td>\n",
       "      <td>0.000000</td>\n",
       "      <td>0.066667</td>\n",
       "      <td>0.0</td>\n",
       "      <td>0.0</td>\n",
       "      <td>Feb</td>\n",
       "      <td>1</td>\n",
       "      <td>1</td>\n",
       "      <td>3</td>\n",
       "      <td>3</td>\n",
       "      <td>Returning_Visitor</td>\n",
       "      <td>False</td>\n",
       "      <td>False</td>\n",
       "    </tr>\n",
       "    <tr>\n",
       "      <th>11</th>\n",
       "      <td>0</td>\n",
       "      <td>0.0</td>\n",
       "      <td>0</td>\n",
       "      <td>0.0</td>\n",
       "      <td>16</td>\n",
       "      <td>407.750000</td>\n",
       "      <td>0.018750</td>\n",
       "      <td>0.025833</td>\n",
       "      <td>0.0</td>\n",
       "      <td>0.4</td>\n",
       "      <td>Feb</td>\n",
       "      <td>1</td>\n",
       "      <td>1</td>\n",
       "      <td>4</td>\n",
       "      <td>3</td>\n",
       "      <td>Returning_Visitor</td>\n",
       "      <td>False</td>\n",
       "      <td>False</td>\n",
       "    </tr>\n",
       "    <tr>\n",
       "      <th>12</th>\n",
       "      <td>0</td>\n",
       "      <td>0.0</td>\n",
       "      <td>0</td>\n",
       "      <td>0.0</td>\n",
       "      <td>7</td>\n",
       "      <td>280.500000</td>\n",
       "      <td>0.000000</td>\n",
       "      <td>0.028571</td>\n",
       "      <td>0.0</td>\n",
       "      <td>0.0</td>\n",
       "      <td>Feb</td>\n",
       "      <td>1</td>\n",
       "      <td>1</td>\n",
       "      <td>1</td>\n",
       "      <td>3</td>\n",
       "      <td>Returning_Visitor</td>\n",
       "      <td>False</td>\n",
       "      <td>False</td>\n",
       "    </tr>\n",
       "    <tr>\n",
       "      <th>13</th>\n",
       "      <td>0</td>\n",
       "      <td>0.0</td>\n",
       "      <td>0</td>\n",
       "      <td>0.0</td>\n",
       "      <td>6</td>\n",
       "      <td>98.000000</td>\n",
       "      <td>0.000000</td>\n",
       "      <td>0.066667</td>\n",
       "      <td>0.0</td>\n",
       "      <td>0.0</td>\n",
       "      <td>Feb</td>\n",
       "      <td>2</td>\n",
       "      <td>5</td>\n",
       "      <td>1</td>\n",
       "      <td>3</td>\n",
       "      <td>Returning_Visitor</td>\n",
       "      <td>False</td>\n",
       "      <td>False</td>\n",
       "    </tr>\n",
       "    <tr>\n",
       "      <th>14</th>\n",
       "      <td>0</td>\n",
       "      <td>0.0</td>\n",
       "      <td>0</td>\n",
       "      <td>0.0</td>\n",
       "      <td>2</td>\n",
       "      <td>68.000000</td>\n",
       "      <td>0.000000</td>\n",
       "      <td>0.100000</td>\n",
       "      <td>0.0</td>\n",
       "      <td>0.0</td>\n",
       "      <td>Feb</td>\n",
       "      <td>3</td>\n",
       "      <td>2</td>\n",
       "      <td>3</td>\n",
       "      <td>3</td>\n",
       "      <td>Returning_Visitor</td>\n",
       "      <td>False</td>\n",
       "      <td>False</td>\n",
       "    </tr>\n",
       "    <tr>\n",
       "      <th>15</th>\n",
       "      <td>2</td>\n",
       "      <td>53.0</td>\n",
       "      <td>0</td>\n",
       "      <td>0.0</td>\n",
       "      <td>23</td>\n",
       "      <td>1668.285119</td>\n",
       "      <td>0.008333</td>\n",
       "      <td>0.016313</td>\n",
       "      <td>0.0</td>\n",
       "      <td>0.0</td>\n",
       "      <td>Feb</td>\n",
       "      <td>1</td>\n",
       "      <td>1</td>\n",
       "      <td>9</td>\n",
       "      <td>3</td>\n",
       "      <td>Returning_Visitor</td>\n",
       "      <td>False</td>\n",
       "      <td>False</td>\n",
       "    </tr>\n",
       "    <tr>\n",
       "      <th>16</th>\n",
       "      <td>0</td>\n",
       "      <td>0.0</td>\n",
       "      <td>0</td>\n",
       "      <td>0.0</td>\n",
       "      <td>1</td>\n",
       "      <td>0.000000</td>\n",
       "      <td>0.200000</td>\n",
       "      <td>0.200000</td>\n",
       "      <td>0.0</td>\n",
       "      <td>0.0</td>\n",
       "      <td>Feb</td>\n",
       "      <td>1</td>\n",
       "      <td>1</td>\n",
       "      <td>4</td>\n",
       "      <td>3</td>\n",
       "      <td>Returning_Visitor</td>\n",
       "      <td>False</td>\n",
       "      <td>False</td>\n",
       "    </tr>\n",
       "    <tr>\n",
       "      <th>17</th>\n",
       "      <td>0</td>\n",
       "      <td>0.0</td>\n",
       "      <td>0</td>\n",
       "      <td>0.0</td>\n",
       "      <td>13</td>\n",
       "      <td>334.966667</td>\n",
       "      <td>0.000000</td>\n",
       "      <td>0.007692</td>\n",
       "      <td>0.0</td>\n",
       "      <td>0.0</td>\n",
       "      <td>Feb</td>\n",
       "      <td>1</td>\n",
       "      <td>1</td>\n",
       "      <td>1</td>\n",
       "      <td>4</td>\n",
       "      <td>Returning_Visitor</td>\n",
       "      <td>True</td>\n",
       "      <td>False</td>\n",
       "    </tr>\n",
       "    <tr>\n",
       "      <th>18</th>\n",
       "      <td>0</td>\n",
       "      <td>0.0</td>\n",
       "      <td>0</td>\n",
       "      <td>0.0</td>\n",
       "      <td>2</td>\n",
       "      <td>32.000000</td>\n",
       "      <td>0.000000</td>\n",
       "      <td>0.100000</td>\n",
       "      <td>0.0</td>\n",
       "      <td>0.0</td>\n",
       "      <td>Feb</td>\n",
       "      <td>2</td>\n",
       "      <td>2</td>\n",
       "      <td>1</td>\n",
       "      <td>3</td>\n",
       "      <td>Returning_Visitor</td>\n",
       "      <td>False</td>\n",
       "      <td>False</td>\n",
       "    </tr>\n",
       "    <tr>\n",
       "      <th>19</th>\n",
       "      <td>0</td>\n",
       "      <td>0.0</td>\n",
       "      <td>0</td>\n",
       "      <td>0.0</td>\n",
       "      <td>20</td>\n",
       "      <td>2981.166667</td>\n",
       "      <td>0.000000</td>\n",
       "      <td>0.010000</td>\n",
       "      <td>0.0</td>\n",
       "      <td>0.0</td>\n",
       "      <td>Feb</td>\n",
       "      <td>2</td>\n",
       "      <td>4</td>\n",
       "      <td>4</td>\n",
       "      <td>4</td>\n",
       "      <td>Returning_Visitor</td>\n",
       "      <td>False</td>\n",
       "      <td>False</td>\n",
       "    </tr>\n",
       "  </tbody>\n",
       "</table>\n",
       "</div>"
      ],
      "text/plain": [
       "    Administrative  Administrative_Duration  Informational  \\\n",
       "0                0                      0.0              0   \n",
       "1                0                      0.0              0   \n",
       "2                0                      0.0              0   \n",
       "3                0                      0.0              0   \n",
       "4                0                      0.0              0   \n",
       "5                0                      0.0              0   \n",
       "6                0                      0.0              0   \n",
       "7                1                      0.0              0   \n",
       "8                0                      0.0              0   \n",
       "9                0                      0.0              0   \n",
       "10               0                      0.0              0   \n",
       "11               0                      0.0              0   \n",
       "12               0                      0.0              0   \n",
       "13               0                      0.0              0   \n",
       "14               0                      0.0              0   \n",
       "15               2                     53.0              0   \n",
       "16               0                      0.0              0   \n",
       "17               0                      0.0              0   \n",
       "18               0                      0.0              0   \n",
       "19               0                      0.0              0   \n",
       "\n",
       "    Informational_Duration  ProductRelated  ProductRelated_Duration  \\\n",
       "0                      0.0               1                 0.000000   \n",
       "1                      0.0               2                64.000000   \n",
       "2                      0.0               1                 0.000000   \n",
       "3                      0.0               2                 2.666667   \n",
       "4                      0.0              10               627.500000   \n",
       "5                      0.0              19               154.216667   \n",
       "6                      0.0               1                 0.000000   \n",
       "7                      0.0               0                 0.000000   \n",
       "8                      0.0               2                37.000000   \n",
       "9                      0.0               3               738.000000   \n",
       "10                     0.0               3               395.000000   \n",
       "11                     0.0              16               407.750000   \n",
       "12                     0.0               7               280.500000   \n",
       "13                     0.0               6                98.000000   \n",
       "14                     0.0               2                68.000000   \n",
       "15                     0.0              23              1668.285119   \n",
       "16                     0.0               1                 0.000000   \n",
       "17                     0.0              13               334.966667   \n",
       "18                     0.0               2                32.000000   \n",
       "19                     0.0              20              2981.166667   \n",
       "\n",
       "    BounceRates  ExitRates  PageValues  SpecialDay Month  OperatingSystems  \\\n",
       "0      0.200000   0.200000         0.0         0.0   Feb                 1   \n",
       "1      0.000000   0.100000         0.0         0.0   Feb                 2   \n",
       "2      0.200000   0.200000         0.0         0.0   Feb                 4   \n",
       "3      0.050000   0.140000         0.0         0.0   Feb                 3   \n",
       "4      0.020000   0.050000         0.0         0.0   Feb                 3   \n",
       "5      0.015789   0.024561         0.0         0.0   Feb                 2   \n",
       "6      0.200000   0.200000         0.0         0.4   Feb                 2   \n",
       "7      0.200000   0.200000         0.0         0.0   Feb                 1   \n",
       "8      0.000000   0.100000         0.0         0.8   Feb                 2   \n",
       "9      0.000000   0.022222         0.0         0.4   Feb                 2   \n",
       "10     0.000000   0.066667         0.0         0.0   Feb                 1   \n",
       "11     0.018750   0.025833         0.0         0.4   Feb                 1   \n",
       "12     0.000000   0.028571         0.0         0.0   Feb                 1   \n",
       "13     0.000000   0.066667         0.0         0.0   Feb                 2   \n",
       "14     0.000000   0.100000         0.0         0.0   Feb                 3   \n",
       "15     0.008333   0.016313         0.0         0.0   Feb                 1   \n",
       "16     0.200000   0.200000         0.0         0.0   Feb                 1   \n",
       "17     0.000000   0.007692         0.0         0.0   Feb                 1   \n",
       "18     0.000000   0.100000         0.0         0.0   Feb                 2   \n",
       "19     0.000000   0.010000         0.0         0.0   Feb                 2   \n",
       "\n",
       "    Browser  Region  TrafficType        VisitorType  Weekend  Revenue  \n",
       "0         1       1            1  Returning_Visitor    False    False  \n",
       "1         2       1            2  Returning_Visitor    False    False  \n",
       "2         1       9            3  Returning_Visitor    False    False  \n",
       "3         2       2            4  Returning_Visitor    False    False  \n",
       "4         3       1            4  Returning_Visitor     True    False  \n",
       "5         2       1            3  Returning_Visitor    False    False  \n",
       "6         4       3            3  Returning_Visitor    False    False  \n",
       "7         2       1            5  Returning_Visitor     True    False  \n",
       "8         2       2            3  Returning_Visitor    False    False  \n",
       "9         4       1            2  Returning_Visitor    False    False  \n",
       "10        1       3            3  Returning_Visitor    False    False  \n",
       "11        1       4            3  Returning_Visitor    False    False  \n",
       "12        1       1            3  Returning_Visitor    False    False  \n",
       "13        5       1            3  Returning_Visitor    False    False  \n",
       "14        2       3            3  Returning_Visitor    False    False  \n",
       "15        1       9            3  Returning_Visitor    False    False  \n",
       "16        1       4            3  Returning_Visitor    False    False  \n",
       "17        1       1            4  Returning_Visitor     True    False  \n",
       "18        2       1            3  Returning_Visitor    False    False  \n",
       "19        4       4            4  Returning_Visitor    False    False  "
      ]
     },
     "execution_count": 3,
     "metadata": {},
     "output_type": "execute_result"
    }
   ],
   "source": [
    "#Loading the data file\n",
    "shopping_df = pd.read_csv('online_shoppers_intention.csv')\n",
    "shopping_df.head(20)"
   ]
  },
  {
   "cell_type": "markdown",
   "id": "1fad77a5",
   "metadata": {},
   "source": [
    "# 3.0 Explore the given data"
   ]
  },
  {
   "cell_type": "code",
   "execution_count": 4,
   "id": "f234596d",
   "metadata": {},
   "outputs": [
    {
     "name": "stdout",
     "output_type": "stream",
     "text": [
      "Rows=12330 and Cols=18\n"
     ]
    }
   ],
   "source": [
    "# Exploring number of rows and columns\n",
    "rows = shopping_df.shape[0]\n",
    "cols = shopping_df.shape[1]\n",
    "print(f\"Rows={rows} and Cols={cols}\")"
   ]
  },
  {
   "cell_type": "code",
   "execution_count": 5,
   "id": "9ae4d48d",
   "metadata": {},
   "outputs": [
    {
     "data": {
      "text/plain": [
       "Index(['Administrative', 'Administrative_Duration', 'Informational',\n",
       "       'Informational_Duration', 'ProductRelated', 'ProductRelated_Duration',\n",
       "       'BounceRates', 'ExitRates', 'PageValues', 'SpecialDay', 'Month',\n",
       "       'OperatingSystems', 'Browser', 'Region', 'TrafficType', 'VisitorType',\n",
       "       'Weekend', 'Revenue'],\n",
       "      dtype='object')"
      ]
     },
     "execution_count": 5,
     "metadata": {},
     "output_type": "execute_result"
    }
   ],
   "source": [
    "#see the column name\n",
    "shopping_df.columns"
   ]
  },
  {
   "cell_type": "markdown",
   "id": "6afd2eb2",
   "metadata": {},
   "source": [
    "# Column Descriptions:\n",
    "\n",
    "1. Administrative: The number of pages of administrative information visited by the user.\n",
    "\n",
    "2. Administrative_Duration: The total time spent by the user on the administrative pages.\n",
    "\n",
    "3. Informational: The number of pages of informational content visited by the user.\n",
    "\n",
    "4. Informational_Duration: The total time spent by the user on the informational pages.\n",
    "\n",
    "5. ProductRelated: The number of pages of product-related content visited by the user.\n",
    "\n",
    "6. ProductRelated_Duration: The total time spent by the user on the product-related pages.\n",
    "\n",
    "7. BounceRates: The percentage of visitors who enter the website and leave without viewing any other pages.\n",
    "\n",
    "8. ExitRates: The percentage of visitors who leave the website after viewing a page.\n",
    "\n",
    "9. PageValues: The average value of the pages viewed by the user before the purchase.\n",
    "\n",
    "10. SpecialDay: The closeness of the visit to a special day like Mother's Day or Valentine's Day.\n",
    "\n",
    "11. Month: The month of the year when the user visited the website.\n",
    "\n",
    "12. OperatingSystem: The operating system used by the user.\n",
    "\n",
    "13. Browser: The browser used by the user.\n",
    "\n",
    "14. Region: The geographical region of the user.\n",
    "\n",
    "15. TrafficType: The type of traffic source from which the user arrived at the website.\n",
    "\n",
    "16. VisitorType: The type of visitor - returning or new.\n",
    "\n",
    "17. Weekend: A binary value indicating whether the visit occurred on a weekend or not.\n",
    "\n",
    "18. Revenue: The target variable indicating whether the user made a purchase or not (1 for purchase, 0 for no purchase).\n",
    "\n",
    "Note that this dataset is a combination of web analytics data and survey data, and the columns represent various attributes of the user's browsing behavior on a large online retailer in Turkey."
   ]
  },
  {
   "cell_type": "code",
   "execution_count": 6,
   "id": "5be64f33",
   "metadata": {},
   "outputs": [
    {
     "data": {
      "text/plain": [
       "Index(['ADMINISTRATIVE', 'ADMINISTRATIVE_DURATION', 'INFORMATIONAL',\n",
       "       'INFORMATIONAL_DURATION', 'PRODUCTRELATED', 'PRODUCTRELATED_DURATION',\n",
       "       'BOUNCERATES', 'EXITRATES', 'PAGEVALUES', 'SPECIALDAY', 'MONTH',\n",
       "       'OPERATINGSYSTEMS', 'BROWSER', 'REGION', 'TRAFFICTYPE', 'VISITORTYPE',\n",
       "       'WEEKEND', 'REVENUE'],\n",
       "      dtype='object')"
      ]
     },
     "execution_count": 6,
     "metadata": {},
     "output_type": "execute_result"
    }
   ],
   "source": [
    "#Coverting all column name to Upper alphabtes and replacing space with \"_\"\n",
    "shopping_df.columns = [s.strip().upper().replace(' ', '_') for s in shopping_df.columns] \n",
    "shopping_df.columns"
   ]
  },
  {
   "cell_type": "code",
   "execution_count": 7,
   "id": "ae3ee088",
   "metadata": {},
   "outputs": [
    {
     "data": {
      "text/plain": [
       "ADMINISTRATIVE               int64\n",
       "ADMINISTRATIVE_DURATION    float64\n",
       "INFORMATIONAL                int64\n",
       "INFORMATIONAL_DURATION     float64\n",
       "PRODUCTRELATED               int64\n",
       "PRODUCTRELATED_DURATION    float64\n",
       "BOUNCERATES                float64\n",
       "EXITRATES                  float64\n",
       "PAGEVALUES                 float64\n",
       "SPECIALDAY                 float64\n",
       "MONTH                       object\n",
       "OPERATINGSYSTEMS             int64\n",
       "BROWSER                      int64\n",
       "REGION                       int64\n",
       "TRAFFICTYPE                  int64\n",
       "VISITORTYPE                 object\n",
       "WEEKEND                       bool\n",
       "REVENUE                       bool\n",
       "dtype: object"
      ]
     },
     "execution_count": 7,
     "metadata": {},
     "output_type": "execute_result"
    }
   ],
   "source": [
    "shopping_df.dtypes"
   ]
  },
  {
   "cell_type": "code",
   "execution_count": 8,
   "id": "84779d25",
   "metadata": {},
   "outputs": [
    {
     "data": {
      "text/plain": [
       "ADMINISTRATIVE             0\n",
       "ADMINISTRATIVE_DURATION    0\n",
       "INFORMATIONAL              0\n",
       "INFORMATIONAL_DURATION     0\n",
       "PRODUCTRELATED             0\n",
       "PRODUCTRELATED_DURATION    0\n",
       "BOUNCERATES                0\n",
       "EXITRATES                  0\n",
       "PAGEVALUES                 0\n",
       "SPECIALDAY                 0\n",
       "MONTH                      0\n",
       "OPERATINGSYSTEMS           0\n",
       "BROWSER                    0\n",
       "REGION                     0\n",
       "TRAFFICTYPE                0\n",
       "VISITORTYPE                0\n",
       "WEEKEND                    0\n",
       "REVENUE                    0\n",
       "dtype: int64"
      ]
     },
     "execution_count": 8,
     "metadata": {},
     "output_type": "execute_result"
    }
   ],
   "source": [
    "# check for if there is any missing values in remaining columns\n",
    "shopping_df.isnull().sum()"
   ]
  },
  {
   "cell_type": "markdown",
   "id": "a18208b9",
   "metadata": {},
   "source": [
    "Here we can see that there are no null values in the dataset. We do not need to fix or replace any null values in the dataset."
   ]
  },
  {
   "cell_type": "code",
   "execution_count": 9,
   "id": "827a601c",
   "metadata": {},
   "outputs": [
    {
     "name": "stdout",
     "output_type": "stream",
     "text": [
      "ADMINISTRATIVE               27\n",
      "ADMINISTRATIVE_DURATION    3335\n",
      "INFORMATIONAL                17\n",
      "INFORMATIONAL_DURATION     1258\n",
      "PRODUCTRELATED              311\n",
      "PRODUCTRELATED_DURATION    9551\n",
      "BOUNCERATES                1872\n",
      "EXITRATES                  4777\n",
      "PAGEVALUES                 2704\n",
      "SPECIALDAY                    6\n",
      "MONTH                        10\n",
      "OPERATINGSYSTEMS              8\n",
      "BROWSER                      13\n",
      "REGION                        9\n",
      "TRAFFICTYPE                  20\n",
      "VISITORTYPE                   3\n",
      "WEEKEND                       2\n",
      "REVENUE                       2\n",
      "dtype: int64\n"
     ]
    }
   ],
   "source": [
    "# Checking for number of unique values for each feature\n",
    "\n",
    "uniques = shopping_df.nunique(axis=0)\n",
    "print(uniques)"
   ]
  },
  {
   "cell_type": "markdown",
   "id": "55c8be98",
   "metadata": {},
   "source": [
    "In this Online Shoppers Purchasing Intention Dataset, the target variable 'Revenue' is a binary variable that indicates whether a customer completed a transaction or not. As we see that, the majority(10,422) of the entries in the dataset have a value of 0 for the 'Revenue' column, indicating that the customer did not make a purchase. This is expected in the context of e-commerce, where a large number of visitors may browse through the website but only a small percentage may actually make a purchase."
   ]
  },
  {
   "cell_type": "markdown",
   "id": "8dbc8550",
   "metadata": {},
   "source": [
    "# 4.0 Feature Cleaning"
   ]
  },
  {
   "cell_type": "markdown",
   "id": "eb8b2324",
   "metadata": {},
   "source": [
    "Before we begin with the classification, we need to make sure that the data is in the correct format and all features are appropriately adjusted.\n",
    "1. Convert categorical variables to numerical variables: Some of the features in the dataset are categorical variables, such as 'Month', 'OperatingSystem', 'Browser', 'Region', 'TrafficType', and 'VisitorType'. We need to convert these variables to numerical variables before we can use them in the classification algorithm. This can be done using techniques such as one-hot encoding or label encoding."
   ]
  },
  {
   "cell_type": "code",
   "execution_count": 10,
   "id": "e142f818",
   "metadata": {},
   "outputs": [
    {
     "name": "stdout",
     "output_type": "stream",
     "text": [
      "May     3364\n",
      "Nov     2998\n",
      "Mar     1907\n",
      "Dec     1727\n",
      "Oct      549\n",
      "Sep      448\n",
      "Aug      433\n",
      "Jul      432\n",
      "June     288\n",
      "Feb      184\n",
      "Name: MONTH, dtype: int64\n"
     ]
    }
   ],
   "source": [
    "monthly = shopping_df['MONTH'].value_counts()\n",
    "print(monthly)"
   ]
  },
  {
   "cell_type": "markdown",
   "id": "997ea4be",
   "metadata": {},
   "source": [
    "We can see here that the 'MONTH' column is missing January and Apri months"
   ]
  },
  {
   "cell_type": "code",
   "execution_count": 11,
   "id": "44c34c7e",
   "metadata": {},
   "outputs": [
    {
     "name": "stderr",
     "output_type": "stream",
     "text": [
      "C:\\Users\\Gopi Chand\\anaconda3\\lib\\site-packages\\seaborn\\_decorators.py:36: FutureWarning: Pass the following variable as a keyword arg: x. From version 0.12, the only valid positional argument will be `data`, and passing other arguments without an explicit keyword will result in an error or misinterpretation.\n",
      "  warnings.warn(\n"
     ]
    },
    {
     "data": {
      "image/png": "[encoded data removed]",
      "text/plain": [
       "<Figure size 640x480 with 1 Axes>"
      ]
     },
     "metadata": {},
     "output_type": "display_data"
    }
   ],
   "source": [
    "#Explore the distribution of each month:\n",
    "sns.countplot(shopping_df['MONTH'], order=monthly.index)\n",
    "plt.title('Entries per Month')\n",
    "xval = -.42\n",
    "plt.ylim(0,4000)\n",
    "\n",
    "for index, value in monthly.items():\n",
    "    plt.text(x=xval, y=value+50, s=str(value))\n",
    "    xval += 1.02"
   ]
  },
  {
   "cell_type": "markdown",
   "id": "9940889d",
   "metadata": {},
   "source": [
    "we remove the column named 'MONTH'. As it has only 10 different categories, it signifies that two months of data are missing. Moreover, since the number of entries for each month is not equal, it can generate an unfair bias towards classification based on the month.Furthermore, the 'SpecialDay' column already includes time-related information that affects purchasing decisions. Hence, the 'MONTH' column is somewhat redundant.\n",
    "We can observe from the visual representation that some months have a large number of samples (May, Nov), while a few others have very few samples (Feb, June). Thus, we will exclude this column from further analysis."
   ]
  },
  {
   "cell_type": "code",
   "execution_count": 12,
   "id": "dbfd417f",
   "metadata": {},
   "outputs": [
    {
     "name": "stdout",
     "output_type": "stream",
     "text": [
      "2    6601\n",
      "1    2585\n",
      "3    2555\n",
      "4     478\n",
      "8      79\n",
      "6      19\n",
      "7       7\n",
      "5       6\n",
      "Name: OPERATINGSYSTEMS, dtype: int64\n"
     ]
    }
   ],
   "source": [
    "#Explore the distribution of Operating System:\n",
    "os_count = shopping_df['OPERATINGSYSTEMS'].value_counts()\n",
    "print(os_count)"
   ]
  },
  {
   "cell_type": "code",
   "execution_count": 13,
   "id": "97a795e8",
   "metadata": {},
   "outputs": [
    {
     "data": {
      "image/png": "[encoded data removed]",
      "text/plain": [
       "<Figure size 640x480 with 1 Axes>"
      ]
     },
     "metadata": {},
     "output_type": "display_data"
    }
   ],
   "source": [
    "#Explore the distribution of Operating System:\n",
    "plt.pie(os_count, labels=os_count.index)\n",
    "plt.title(\"Operating Systems\")\n",
    "plt.show()"
   ]
  },
  {
   "cell_type": "markdown",
   "id": "074f7bed",
   "metadata": {},
   "source": [
    "\"OperatingSystems\" column has been labeled by number ranging from 1 to 8,the majority of users use operating system 2 and low-usage is OS 5. As it may not add significant value to our prediction model.so, dropping this column"
   ]
  },
  {
   "cell_type": "code",
   "execution_count": 14,
   "id": "58f6363d",
   "metadata": {},
   "outputs": [
    {
     "name": "stderr",
     "output_type": "stream",
     "text": [
      "C:\\Users\\Gopi Chand\\anaconda3\\lib\\site-packages\\seaborn\\_decorators.py:36: FutureWarning: Pass the following variable as a keyword arg: x. From version 0.12, the only valid positional argument will be `data`, and passing other arguments without an explicit keyword will result in an error or misinterpretation.\n",
      "  warnings.warn(\n"
     ]
    },
    {
     "data": {
      "image/png": "[encoded data removed]",
      "text/plain": [
       "<Figure size 640x480 with 1 Axes>"
      ]
     },
     "metadata": {},
     "output_type": "display_data"
    }
   ],
   "source": [
    "#Explore the distribution of Browser:\n",
    "sns.countplot(shopping_df['BROWSER'])\n",
    "plt.title('Browsers')\n",
    "plt.show()\n"
   ]
  },
  {
   "cell_type": "markdown",
   "id": "226c9fb1",
   "metadata": {},
   "source": [
    "Majority of users using Browser 2 and 1 and remaining all browers are very very less users. We will drop this column as it does not contribute much to our model."
   ]
  },
  {
   "cell_type": "code",
   "execution_count": 15,
   "id": "aed5fde9",
   "metadata": {},
   "outputs": [
    {
     "name": "stderr",
     "output_type": "stream",
     "text": [
      "C:\\Users\\Gopi Chand\\anaconda3\\lib\\site-packages\\seaborn\\_decorators.py:36: FutureWarning: Pass the following variable as a keyword arg: x. From version 0.12, the only valid positional argument will be `data`, and passing other arguments without an explicit keyword will result in an error or misinterpretation.\n",
      "  warnings.warn(\n"
     ]
    },
    {
     "data": {
      "image/png": "[encoded data removed]",
      "text/plain": [
       "<Figure size 640x480 with 1 Axes>"
      ]
     },
     "metadata": {},
     "output_type": "display_data"
    }
   ],
   "source": [
    "#Explore the distribution of Trafic Type:\n",
    "sns.countplot(shopping_df['TRAFFICTYPE'])\n",
    "plt.title('Traffic Type')\n",
    "plt.show()\n"
   ]
  },
  {
   "cell_type": "markdown",
   "id": "af0e02a2",
   "metadata": {},
   "source": [
    "The \"TrafficType\" column is being left out because it may not be very useful in predicting if a user will make a purchase. While this column can help website owners determine the sources of their website traffic, it may not provide significant insights into visitors' purchasing behavior. However, this column can still be helpful in determining where website owners should invest in advertising to attract more visitors to their website."
   ]
  },
  {
   "cell_type": "code",
   "execution_count": 16,
   "id": "5b5367d1",
   "metadata": {},
   "outputs": [
    {
     "name": "stderr",
     "output_type": "stream",
     "text": [
      "C:\\Users\\Gopi Chand\\anaconda3\\lib\\site-packages\\seaborn\\_decorators.py:36: FutureWarning: Pass the following variable as a keyword arg: x. From version 0.12, the only valid positional argument will be `data`, and passing other arguments without an explicit keyword will result in an error or misinterpretation.\n",
      "  warnings.warn(\n"
     ]
    },
    {
     "data": {
      "image/png": "[encoded data removed]",
      "text/plain": [
       "<Figure size 640x480 with 1 Axes>"
      ]
     },
     "metadata": {},
     "output_type": "display_data"
    }
   ],
   "source": [
    "#Explore the distribution of Weekend:\n",
    "sns.countplot(shopping_df['WEEKEND'])\n",
    "plt.title('Weekend')\n",
    "plt.show()\n"
   ]
  },
  {
   "cell_type": "markdown",
   "id": "677a45b6",
   "metadata": {},
   "source": [
    "As per the famous article, Best Day of The Week for Online Sales,SaleCycle data found Wednesday and Thursday saw the busiest retail days online for online sales with Saturday being the worst day of the week for online sales. However in most recent findings, Monday has taken the lion’s share of online sales for the last two years in a row. Sunday currently bodes the lowest amount of online sales.The weekend is certainly the quietest time for ecommerce activity, when people have more leisure time and therefore are less likely to be around a device on which they can shop.https://www.salecycle.com/wp-content/uploads/2023/01/coponline-sales-volume-by-day-2022-2-1.png. from the above bar chart we can say majority claas is not weekend.There is weak correlation between days of the week and online shopping. asserts that Sundays and Mondays have the highest traffic for eCommerce. dropping this column too"
   ]
  },
  {
   "cell_type": "code",
   "execution_count": 17,
   "id": "a2ddc8a5",
   "metadata": {},
   "outputs": [
    {
     "name": "stderr",
     "output_type": "stream",
     "text": [
      "C:\\Users\\Gopi Chand\\anaconda3\\lib\\site-packages\\seaborn\\_decorators.py:36: FutureWarning: Pass the following variable as a keyword arg: x. From version 0.12, the only valid positional argument will be `data`, and passing other arguments without an explicit keyword will result in an error or misinterpretation.\n",
      "  warnings.warn(\n"
     ]
    },
    {
     "data": {
      "image/png": "[encoded data removed]",
      "text/plain": [
       "<Figure size 640x480 with 1 Axes>"
      ]
     },
     "metadata": {},
     "output_type": "display_data"
    }
   ],
   "source": [
    "#Explore the distribution of Region:\n",
    "sns.countplot(shopping_df['REGION'])\n",
    "plt.title('Region')\n",
    "plt.show()"
   ]
  },
  {
   "cell_type": "markdown",
   "id": "b085b8f0",
   "metadata": {},
   "source": [
    "The \"Region\" column is being excluded from the features because while regional location may be somewhat related to the likelihood of a purchase, it's not a significant factor in the purchasing behavior of visitors. Therefore, in order to simplify the model and use a smaller set of features, the \"Region\" column is being left out."
   ]
  },
  {
   "cell_type": "code",
   "execution_count": 18,
   "id": "2b26cfb1",
   "metadata": {},
   "outputs": [],
   "source": [
    "#Some of the variables aren't predictors; therefore we drop them\n",
    "shopping_df = shopping_df.drop(columns=['REGION', 'WEEKEND','TRAFFICTYPE','BROWSER','OPERATINGSYSTEMS','MONTH'])"
   ]
  },
  {
   "cell_type": "markdown",
   "id": "9ff70b82",
   "metadata": {},
   "source": [
    "#### Encoding varibles-Label and One Hot Encoding"
   ]
  },
  {
   "cell_type": "code",
   "execution_count": 19,
   "id": "24ad1bb0",
   "metadata": {},
   "outputs": [],
   "source": [
    "dummies_df = pd.get_dummies(shopping_df['VISITORTYPE'], prefix='VISITORTYPE', drop_first=False)\n",
    "shopping_df = shopping_df.join(dummies_df)\n",
    "shopping_df.drop('VISITORTYPE', axis=1, inplace = True)"
   ]
  },
  {
   "cell_type": "code",
   "execution_count": 20,
   "id": "280c63bc",
   "metadata": {},
   "outputs": [],
   "source": [
    "labelencoder = LabelEncoder()\n",
    "shopping_df['REVENUE'] = labelencoder.fit_transform(shopping_df['REVENUE'])"
   ]
  },
  {
   "cell_type": "code",
   "execution_count": 21,
   "id": "c1a4bef7",
   "metadata": {},
   "outputs": [
    {
     "name": "stdout",
     "output_type": "stream",
     "text": [
      "<class 'pandas.core.frame.DataFrame'>\n",
      "RangeIndex: 12330 entries, 0 to 12329\n",
      "Data columns (total 14 columns):\n",
      " #   Column                         Non-Null Count  Dtype  \n",
      "---  ------                         --------------  -----  \n",
      " 0   ADMINISTRATIVE                 12330 non-null  int64  \n",
      " 1   ADMINISTRATIVE_DURATION        12330 non-null  float64\n",
      " 2   INFORMATIONAL                  12330 non-null  int64  \n",
      " 3   INFORMATIONAL_DURATION         12330 non-null  float64\n",
      " 4   PRODUCTRELATED                 12330 non-null  int64  \n",
      " 5   PRODUCTRELATED_DURATION        12330 non-null  float64\n",
      " 6   BOUNCERATES                    12330 non-null  float64\n",
      " 7   EXITRATES                      12330 non-null  float64\n",
      " 8   PAGEVALUES                     12330 non-null  float64\n",
      " 9   SPECIALDAY                     12330 non-null  float64\n",
      " 10  REVENUE                        12330 non-null  int64  \n",
      " 11  VISITORTYPE_New_Visitor        12330 non-null  uint8  \n",
      " 12  VISITORTYPE_Other              12330 non-null  uint8  \n",
      " 13  VISITORTYPE_Returning_Visitor  12330 non-null  uint8  \n",
      "dtypes: float64(7), int64(4), uint8(3)\n",
      "memory usage: 1.1 MB\n"
     ]
    }
   ],
   "source": [
    "# explore the dataframe columns to verify encoding and dropped columns\n",
    "shopping_df.info()"
   ]
  },
  {
   "cell_type": "code",
   "execution_count": 22,
   "id": "65266258",
   "metadata": {},
   "outputs": [
    {
     "data": {
      "text/html": [
       "<div>\n",
       "<style scoped>\n",
       "    .dataframe tbody tr th:only-of-type {\n",
       "        vertical-align: middle;\n",
       "    }\n",
       "\n",
       "    .dataframe tbody tr th {\n",
       "        vertical-align: top;\n",
       "    }\n",
       "\n",
       "    .dataframe thead th {\n",
       "        text-align: right;\n",
       "    }\n",
       "</style>\n",
       "<table border=\"1\" class=\"dataframe\">\n",
       "  <thead>\n",
       "    <tr style=\"text-align: right;\">\n",
       "      <th></th>\n",
       "      <th>ADMINISTRATIVE</th>\n",
       "      <th>ADMINISTRATIVE_DURATION</th>\n",
       "      <th>INFORMATIONAL</th>\n",
       "      <th>INFORMATIONAL_DURATION</th>\n",
       "      <th>PRODUCTRELATED</th>\n",
       "      <th>PRODUCTRELATED_DURATION</th>\n",
       "      <th>BOUNCERATES</th>\n",
       "      <th>EXITRATES</th>\n",
       "      <th>PAGEVALUES</th>\n",
       "      <th>SPECIALDAY</th>\n",
       "      <th>REVENUE</th>\n",
       "      <th>VISITORTYPE_New_Visitor</th>\n",
       "      <th>VISITORTYPE_Other</th>\n",
       "      <th>VISITORTYPE_Returning_Visitor</th>\n",
       "    </tr>\n",
       "  </thead>\n",
       "  <tbody>\n",
       "    <tr>\n",
       "      <th>0</th>\n",
       "      <td>0</td>\n",
       "      <td>0.0</td>\n",
       "      <td>0</td>\n",
       "      <td>0.0</td>\n",
       "      <td>1</td>\n",
       "      <td>0.000000</td>\n",
       "      <td>0.20</td>\n",
       "      <td>0.20</td>\n",
       "      <td>0.0</td>\n",
       "      <td>0.0</td>\n",
       "      <td>0</td>\n",
       "      <td>0</td>\n",
       "      <td>0</td>\n",
       "      <td>1</td>\n",
       "    </tr>\n",
       "    <tr>\n",
       "      <th>1</th>\n",
       "      <td>0</td>\n",
       "      <td>0.0</td>\n",
       "      <td>0</td>\n",
       "      <td>0.0</td>\n",
       "      <td>2</td>\n",
       "      <td>64.000000</td>\n",
       "      <td>0.00</td>\n",
       "      <td>0.10</td>\n",
       "      <td>0.0</td>\n",
       "      <td>0.0</td>\n",
       "      <td>0</td>\n",
       "      <td>0</td>\n",
       "      <td>0</td>\n",
       "      <td>1</td>\n",
       "    </tr>\n",
       "    <tr>\n",
       "      <th>2</th>\n",
       "      <td>0</td>\n",
       "      <td>0.0</td>\n",
       "      <td>0</td>\n",
       "      <td>0.0</td>\n",
       "      <td>1</td>\n",
       "      <td>0.000000</td>\n",
       "      <td>0.20</td>\n",
       "      <td>0.20</td>\n",
       "      <td>0.0</td>\n",
       "      <td>0.0</td>\n",
       "      <td>0</td>\n",
       "      <td>0</td>\n",
       "      <td>0</td>\n",
       "      <td>1</td>\n",
       "    </tr>\n",
       "    <tr>\n",
       "      <th>3</th>\n",
       "      <td>0</td>\n",
       "      <td>0.0</td>\n",
       "      <td>0</td>\n",
       "      <td>0.0</td>\n",
       "      <td>2</td>\n",
       "      <td>2.666667</td>\n",
       "      <td>0.05</td>\n",
       "      <td>0.14</td>\n",
       "      <td>0.0</td>\n",
       "      <td>0.0</td>\n",
       "      <td>0</td>\n",
       "      <td>0</td>\n",
       "      <td>0</td>\n",
       "      <td>1</td>\n",
       "    </tr>\n",
       "    <tr>\n",
       "      <th>4</th>\n",
       "      <td>0</td>\n",
       "      <td>0.0</td>\n",
       "      <td>0</td>\n",
       "      <td>0.0</td>\n",
       "      <td>10</td>\n",
       "      <td>627.500000</td>\n",
       "      <td>0.02</td>\n",
       "      <td>0.05</td>\n",
       "      <td>0.0</td>\n",
       "      <td>0.0</td>\n",
       "      <td>0</td>\n",
       "      <td>0</td>\n",
       "      <td>0</td>\n",
       "      <td>1</td>\n",
       "    </tr>\n",
       "  </tbody>\n",
       "</table>\n",
       "</div>"
      ],
      "text/plain": [
       "   ADMINISTRATIVE  ADMINISTRATIVE_DURATION  INFORMATIONAL  \\\n",
       "0               0                      0.0              0   \n",
       "1               0                      0.0              0   \n",
       "2               0                      0.0              0   \n",
       "3               0                      0.0              0   \n",
       "4               0                      0.0              0   \n",
       "\n",
       "   INFORMATIONAL_DURATION  PRODUCTRELATED  PRODUCTRELATED_DURATION  \\\n",
       "0                     0.0               1                 0.000000   \n",
       "1                     0.0               2                64.000000   \n",
       "2                     0.0               1                 0.000000   \n",
       "3                     0.0               2                 2.666667   \n",
       "4                     0.0              10               627.500000   \n",
       "\n",
       "   BOUNCERATES  EXITRATES  PAGEVALUES  SPECIALDAY  REVENUE  \\\n",
       "0         0.20       0.20         0.0         0.0        0   \n",
       "1         0.00       0.10         0.0         0.0        0   \n",
       "2         0.20       0.20         0.0         0.0        0   \n",
       "3         0.05       0.14         0.0         0.0        0   \n",
       "4         0.02       0.05         0.0         0.0        0   \n",
       "\n",
       "   VISITORTYPE_New_Visitor  VISITORTYPE_Other  VISITORTYPE_Returning_Visitor  \n",
       "0                        0                  0                              1  \n",
       "1                        0                  0                              1  \n",
       "2                        0                  0                              1  \n",
       "3                        0                  0                              1  \n",
       "4                        0                  0                              1  "
      ]
     },
     "execution_count": 22,
     "metadata": {},
     "output_type": "execute_result"
    }
   ],
   "source": [
    "shopping_df.head()"
   ]
  },
  {
   "cell_type": "code",
   "execution_count": 23,
   "id": "db8c36b2",
   "metadata": {},
   "outputs": [
    {
     "data": {
      "text/plain": [
       "Index(['ADMINISTRATIVE', 'ADMINISTRATIVE_DURATION', 'INFORMATIONAL',\n",
       "       'INFORMATIONAL_DURATION', 'PRODUCTRELATED', 'PRODUCTRELATED_DURATION',\n",
       "       'BOUNCERATES', 'EXITRATES', 'PAGEVALUES', 'SPECIALDAY', 'REVENUE',\n",
       "       'VISITORTYPE_New_Visitor', 'VISITORTYPE_Other',\n",
       "       'VISITORTYPE_Returning_Visitor'],\n",
       "      dtype='object')"
      ]
     },
     "execution_count": 23,
     "metadata": {},
     "output_type": "execute_result"
    }
   ],
   "source": [
    "shopping_df.columns"
   ]
  },
  {
   "cell_type": "markdown",
   "id": "77430fdc",
   "metadata": {},
   "source": [
    "# 5.0 Split data (train/test)"
   ]
  },
  {
   "cell_type": "code",
   "execution_count": 24,
   "id": "e8bad676",
   "metadata": {},
   "outputs": [],
   "source": [
    "y = shopping_df.pop('REVENUE')\n",
    "X = shopping_df"
   ]
  },
  {
   "cell_type": "code",
   "execution_count": 25,
   "id": "4fd2afa6",
   "metadata": {},
   "outputs": [],
   "source": [
    "# split the data into validation and training set\n",
    "#df_train, df_test = train_test_split(shopping_df, test_size=0.3, random_state=1)\n",
    "X_train, X_test, y_train, y_test = train_test_split(X,y, test_size=0.3, random_state=1)\n",
    "# to reduce repetition in later code, create variables to represent the columns\n",
    "# that are our predictors and target\n",
    "#target = 'REVENUE'\n",
    "#predictors = list(shopping_df.columns)\n",
    "#predictors.remove(target)"
   ]
  },
  {
   "cell_type": "markdown",
   "id": "a0bbe25f",
   "metadata": {},
   "source": [
    "### 5.1  Conduct any data prepartion that should be done *AFTER* the data split\n",
    "\n",
    "We will look at the following:\n",
    "1) imput any missing numeric values using the mean of the variable/column\n",
    "\n",
    "2) remove differences of scale by standardizing the numerical variables\n",
    "\n",
    "3) check for data imblance"
   ]
  },
  {
   "cell_type": "markdown",
   "id": "cb0bd780",
   "metadata": {},
   "source": [
    "We already checked for any missing value. In our data there is set no missings values. so we don't need to do any imput."
   ]
  },
  {
   "cell_type": "code",
   "execution_count": 26,
   "id": "64224a56",
   "metadata": {},
   "outputs": [],
   "source": [
    "#standardizing the numerical variables\n",
    "scaler = StandardScaler()\n",
    "scaler.fit(X_train)\n",
    "X_train = scaler.transform(X_train)\n",
    "X_test = scaler.transform(X_test)"
   ]
  },
  {
   "cell_type": "code",
   "execution_count": 27,
   "id": "b8288cfc",
   "metadata": {},
   "outputs": [
    {
     "data": {
      "text/plain": [
       "0    7273\n",
       "1    1358\n",
       "Name: REVENUE, dtype: int64"
      ]
     },
     "execution_count": 27,
     "metadata": {},
     "output_type": "execute_result"
    }
   ],
   "source": [
    "#Checking for data imblance \n",
    "y_train.value_counts()"
   ]
  },
  {
   "cell_type": "code",
   "execution_count": 28,
   "id": "a6cf9817",
   "metadata": {},
   "outputs": [
    {
     "data": {
      "image/png": "[encoded data removed]",
      "text/plain": [
       "<Figure size 640x480 with 1 Axes>"
      ]
     },
     "metadata": {},
     "output_type": "display_data"
    }
   ],
   "source": [
    "import matplotlib.pyplot as plt\n",
    "count = y_train.value_counts()\n",
    "count.plot.bar()\n",
    "plt.ylabel('Number of records')\n",
    "plt.xlabel('Target Class')\n",
    "plt.show()"
   ]
  },
  {
   "cell_type": "code",
   "execution_count": 29,
   "id": "7b878ee0",
   "metadata": {},
   "outputs": [
    {
     "data": {
      "text/plain": [
       "0    7273\n",
       "1    7273\n",
       "Name: REVENUE, dtype: int64"
      ]
     },
     "execution_count": 29,
     "metadata": {},
     "output_type": "execute_result"
    }
   ],
   "source": [
    "#Oversampling to balance data \n",
    "ros = RandomOverSampler(random_state=1)\n",
    "X_train, y_train = ros.fit_resample(X_train, y_train)\n",
    "y_train.value_counts()"
   ]
  },
  {
   "cell_type": "code",
   "execution_count": 30,
   "id": "8d8548a7",
   "metadata": {},
   "outputs": [
    {
     "data": {
      "image/png": "[encoded data removed]",
      "text/plain": [
       "<Figure size 640x480 with 1 Axes>"
      ]
     },
     "metadata": {},
     "output_type": "display_data"
    }
   ],
   "source": [
    "import matplotlib.pyplot as plt\n",
    "count = y_train.value_counts()\n",
    "count.plot.bar()\n",
    "plt.ylabel('Number of records')\n",
    "plt.xlabel('Target Class')\n",
    "plt.show()"
   ]
  },
  {
   "cell_type": "markdown",
   "id": "74ac0c1f",
   "metadata": {},
   "source": [
    "# 6.0 Save the Data"
   ]
  },
  {
   "cell_type": "code",
   "execution_count": 31,
   "id": "47f63e9d",
   "metadata": {},
   "outputs": [],
   "source": [
    "# convert the numpy array to a pandas DataFrame\n",
    "X_train = pd.DataFrame(X_train)\n",
    "y_train = pd.DataFrame(y_train)\n",
    "X_test = pd.DataFrame(X_test)\n",
    "y_test = pd.DataFrame(y_test)"
   ]
  },
  {
   "cell_type": "code",
   "execution_count": 32,
   "id": "864de70b",
   "metadata": {},
   "outputs": [],
   "source": [
    "# save the DataFrame to a CSV file\n",
    "X_train.to_csv('shopping_X_train.csv', index=False)\n",
    "y_train.to_csv('shopping_y_train.csv', index=False)\n",
    "X_test.to_csv('shopping_X_test.csv', index=False)\n",
    "y_test.to_csv('shopping_y_test.csv', index=False)"
   ]
  },
  {
   "cell_type": "markdown",
   "id": "551f71fb",
   "metadata": {},
   "source": [
    "Data files saved successfully"
   ]
  }
 ],
 "metadata": {
  "kernelspec": {
   "display_name": "Python 3 (ipykernel)",
   "language": "python",
   "name": "python3"
  },
  "language_info": {
   "codemirror_mode": {
    "name": "ipython",
    "version": 3
   },
   "file_extension": ".py",
   "mimetype": "text/x-python",
   "name": "python",
   "nbconvert_exporter": "python",
   "pygments_lexer": "ipython3",
   "version": "3.9.16"
  }
 },
 "nbformat": 4,
 "nbformat_minor": 5
}
