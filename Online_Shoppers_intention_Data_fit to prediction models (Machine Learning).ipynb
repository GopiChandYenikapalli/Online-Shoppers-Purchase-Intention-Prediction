{
 "cells": [
  {
   "cell_type": "markdown",
   "id": "c92fef44",
   "metadata": {
    "id": "c92fef44"
   },
   "source": [
    "# 1.0 Setup"
   ]
  },
  {
   "cell_type": "code",
   "execution_count": 1,
   "id": "f266f722",
   "metadata": {
    "id": "f266f722"
   },
   "outputs": [],
   "source": [
    "# Import all required libraries\n",
    "import pandas as pd\n",
    "from sklearn.svm import SVC\n",
    "from matplotlib import pyplot as plt\n",
    "import numpy as np\n",
    "from sklearn.metrics import confusion_matrix\n",
    "from sklearn.model_selection import train_test_split\n",
    "from sklearn import preprocessing\n",
    "from sklearn.linear_model import LogisticRegression\n",
    "from sklearn.preprocessing import LabelEncoder, OneHotEncoder\n",
    "from sklearn.model_selection import GridSearchCV, RandomizedSearchCV\n",
    "from sklearn.svm import SVC\n",
    "from sklearn.tree import DecisionTreeClassifier\n",
    "from sklearn.metrics import confusion_matrix, accuracy_score, precision_score, recall_score, f1_score\n",
    "from xgboost import XGBClassifier\n",
    "from sklearn.ensemble import RandomForestClassifier, GradientBoostingClassifier, AdaBoostClassifier\n",
    "from imblearn.over_sampling import RandomOverSampler\n",
    "\n",
    "import seaborn as sns\n",
    "np.random.seed(1)"
   ]
  },
  {
   "cell_type": "markdown",
   "id": "9cf6817b",
   "metadata": {
    "id": "9cf6817b"
   },
   "source": [
    "# 2.0 Load the Data"
   ]
  },
  {
   "cell_type": "markdown",
   "id": "f7af73c9",
   "metadata": {},
   "source": [
    "Loading the cleaned and preprossed data"
   ]
  },
  {
   "cell_type": "code",
   "execution_count": 3,
   "id": "1501bf14",
   "metadata": {
    "id": "1501bf14"
   },
   "outputs": [],
   "source": [
    "#load the cleaned data \n",
    "X_train = pd.read_csv(\"shopping_X_train.csv\")\n",
    "X_test = pd.read_csv(\"shopping_X_test.csv\")\n",
    "y_train = pd.read_csv(\"shopping_y_train.csv\")\n",
    "y_test = pd.read_csv(\"shopping_y_test.csv\")"
   ]
  },
  {
   "cell_type": "code",
   "execution_count": 4,
   "id": "5f078baf",
   "metadata": {
    "colab": {
     "base_uri": "https://localhost:8080/",
     "height": 206
    },
    "id": "5f078baf",
    "outputId": "fbb31021-2815-42b8-a2b3-67b63a58586a"
   },
   "outputs": [
    {
     "data": {
      "text/html": [
       "\n",
       "  <div id=\"df-2f2634da-c489-4411-94cd-4433d029a2e8\">\n",
       "    <div class=\"colab-df-container\">\n",
       "      <div>\n",
       "<style scoped>\n",
       "    .dataframe tbody tr th:only-of-type {\n",
       "        vertical-align: middle;\n",
       "    }\n",
       "\n",
       "    .dataframe tbody tr th {\n",
       "        vertical-align: top;\n",
       "    }\n",
       "\n",
       "    .dataframe thead th {\n",
       "        text-align: right;\n",
       "    }\n",
       "</style>\n",
       "<table border=\"1\" class=\"dataframe\">\n",
       "  <thead>\n",
       "    <tr style=\"text-align: right;\">\n",
       "      <th></th>\n",
       "      <th>0</th>\n",
       "      <th>1</th>\n",
       "      <th>2</th>\n",
       "      <th>3</th>\n",
       "      <th>4</th>\n",
       "      <th>5</th>\n",
       "      <th>6</th>\n",
       "      <th>7</th>\n",
       "      <th>8</th>\n",
       "      <th>9</th>\n",
       "      <th>10</th>\n",
       "      <th>11</th>\n",
       "      <th>12</th>\n",
       "    </tr>\n",
       "  </thead>\n",
       "  <tbody>\n",
       "    <tr>\n",
       "      <th>0</th>\n",
       "      <td>-0.695244</td>\n",
       "      <td>-0.464002</td>\n",
       "      <td>-0.401578</td>\n",
       "      <td>-0.249008</td>\n",
       "      <td>0.002346</td>\n",
       "      <td>-0.234227</td>\n",
       "      <td>-0.459606</td>\n",
       "      <td>-0.757614</td>\n",
       "      <td>-0.320331</td>\n",
       "      <td>-0.309603</td>\n",
       "      <td>2.522763</td>\n",
       "      <td>-0.084367</td>\n",
       "      <td>-2.449490</td>\n",
       "    </tr>\n",
       "    <tr>\n",
       "      <th>1</th>\n",
       "      <td>-0.094939</td>\n",
       "      <td>-0.200020</td>\n",
       "      <td>-0.401578</td>\n",
       "      <td>-0.249008</td>\n",
       "      <td>0.160364</td>\n",
       "      <td>0.430788</td>\n",
       "      <td>-0.459606</td>\n",
       "      <td>-0.628451</td>\n",
       "      <td>2.589939</td>\n",
       "      <td>-0.309603</td>\n",
       "      <td>-0.396391</td>\n",
       "      <td>-0.084367</td>\n",
       "      <td>0.408248</td>\n",
       "    </tr>\n",
       "    <tr>\n",
       "      <th>2</th>\n",
       "      <td>-0.695244</td>\n",
       "      <td>-0.464002</td>\n",
       "      <td>-0.401578</td>\n",
       "      <td>-0.249008</td>\n",
       "      <td>-0.562004</td>\n",
       "      <td>-0.549309</td>\n",
       "      <td>-0.459606</td>\n",
       "      <td>-0.657154</td>\n",
       "      <td>-0.320331</td>\n",
       "      <td>-0.309603</td>\n",
       "      <td>-0.396391</td>\n",
       "      <td>11.852924</td>\n",
       "      <td>-2.449490</td>\n",
       "    </tr>\n",
       "    <tr>\n",
       "      <th>3</th>\n",
       "      <td>0.205214</td>\n",
       "      <td>0.008264</td>\n",
       "      <td>-0.401578</td>\n",
       "      <td>-0.249008</td>\n",
       "      <td>1.401933</td>\n",
       "      <td>0.681911</td>\n",
       "      <td>-0.459606</td>\n",
       "      <td>-0.843723</td>\n",
       "      <td>-0.320331</td>\n",
       "      <td>-0.309603</td>\n",
       "      <td>2.522763</td>\n",
       "      <td>-0.084367</td>\n",
       "      <td>-2.449490</td>\n",
       "    </tr>\n",
       "    <tr>\n",
       "      <th>4</th>\n",
       "      <td>0.805519</td>\n",
       "      <td>0.522158</td>\n",
       "      <td>1.975666</td>\n",
       "      <td>0.500311</td>\n",
       "      <td>1.311638</td>\n",
       "      <td>1.896665</td>\n",
       "      <td>-0.373168</td>\n",
       "      <td>-0.732210</td>\n",
       "      <td>1.930372</td>\n",
       "      <td>-0.309603</td>\n",
       "      <td>-0.396391</td>\n",
       "      <td>-0.084367</td>\n",
       "      <td>0.408248</td>\n",
       "    </tr>\n",
       "  </tbody>\n",
       "</table>\n",
       "</div>\n",
       "      <button class=\"colab-df-convert\" onclick=\"convertToInteractive('df-2f2634da-c489-4411-94cd-4433d029a2e8')\"\n",
       "              title=\"Convert this dataframe to an interactive table.\"\n",
       "              style=\"display:none;\">\n",
       "        \n",
       "  <svg xmlns=\"http://www.w3.org/2000/svg\" height=\"24px\"viewBox=\"0 0 24 24\"\n",
       "       width=\"24px\">\n",
       "    <path d=\"M0 0h24v24H0V0z\" fill=\"none\"/>\n",
       "    <path d=\"M18.56 5.44l.94 2.06.94-2.06 2.06-.94-2.06-.94-.94-2.06-.94 2.06-2.06.94zm-11 1L8.5 8.5l.94-2.06 2.06-.94-2.06-.94L8.5 2.5l-.94 2.06-2.06.94zm10 10l.94 2.06.94-2.06 2.06-.94-2.06-.94-.94-2.06-.94 2.06-2.06.94z\"/><path d=\"M17.41 7.96l-1.37-1.37c-.4-.4-.92-.59-1.43-.59-.52 0-1.04.2-1.43.59L10.3 9.45l-7.72 7.72c-.78.78-.78 2.05 0 2.83L4 21.41c.39.39.9.59 1.41.59.51 0 1.02-.2 1.41-.59l7.78-7.78 2.81-2.81c.8-.78.8-2.07 0-2.86zM5.41 20L4 18.59l7.72-7.72 1.47 1.35L5.41 20z\"/>\n",
       "  </svg>\n",
       "      </button>\n",
       "      \n",
       "  <style>\n",
       "    .colab-df-container {\n",
       "      display:flex;\n",
       "      flex-wrap:wrap;\n",
       "      gap: 12px;\n",
       "    }\n",
       "\n",
       "    .colab-df-convert {\n",
       "      background-color: #E8F0FE;\n",
       "      border: none;\n",
       "      border-radius: 50%;\n",
       "      cursor: pointer;\n",
       "      display: none;\n",
       "      fill: #1967D2;\n",
       "      height: 32px;\n",
       "      padding: 0 0 0 0;\n",
       "      width: 32px;\n",
       "    }\n",
       "\n",
       "    .colab-df-convert:hover {\n",
       "      background-color: #E2EBFA;\n",
       "      box-shadow: 0px 1px 2px rgba(60, 64, 67, 0.3), 0px 1px 3px 1px rgba(60, 64, 67, 0.15);\n",
       "      fill: #174EA6;\n",
       "    }\n",
       "\n",
       "    [theme=dark] .colab-df-convert {\n",
       "      background-color: #3B4455;\n",
       "      fill: #D2E3FC;\n",
       "    }\n",
       "\n",
       "    [theme=dark] .colab-df-convert:hover {\n",
       "      background-color: #434B5C;\n",
       "      box-shadow: 0px 1px 3px 1px rgba(0, 0, 0, 0.15);\n",
       "      filter: drop-shadow(0px 1px 2px rgba(0, 0, 0, 0.3));\n",
       "      fill: #FFFFFF;\n",
       "    }\n",
       "  </style>\n",
       "\n",
       "      <script>\n",
       "        const buttonEl =\n",
       "          document.querySelector('#df-2f2634da-c489-4411-94cd-4433d029a2e8 button.colab-df-convert');\n",
       "        buttonEl.style.display =\n",
       "          google.colab.kernel.accessAllowed ? 'block' : 'none';\n",
       "\n",
       "        async function convertToInteractive(key) {\n",
       "          const element = document.querySelector('#df-2f2634da-c489-4411-94cd-4433d029a2e8');\n",
       "          const dataTable =\n",
       "            await google.colab.kernel.invokeFunction('convertToInteractive',\n",
       "                                                     [key], {});\n",
       "          if (!dataTable) return;\n",
       "\n",
       "          const docLinkHtml = 'Like what you see? Visit the ' +\n",
       "            '<a target=\"_blank\" href=https://colab.research.google.com/notebooks/data_table.ipynb>data table notebook</a>'\n",
       "            + ' to learn more about interactive tables.';\n",
       "          element.innerHTML = '';\n",
       "          dataTable['output_type'] = 'display_data';\n",
       "          await google.colab.output.renderOutput(dataTable, element);\n",
       "          const docLink = document.createElement('div');\n",
       "          docLink.innerHTML = docLinkHtml;\n",
       "          element.appendChild(docLink);\n",
       "        }\n",
       "      </script>\n",
       "    </div>\n",
       "  </div>\n",
       "  "
      ],
      "text/plain": [
       "          0         1         2         3         4         5         6  \\\n",
       "0 -0.695244 -0.464002 -0.401578 -0.249008  0.002346 -0.234227 -0.459606   \n",
       "1 -0.094939 -0.200020 -0.401578 -0.249008  0.160364  0.430788 -0.459606   \n",
       "2 -0.695244 -0.464002 -0.401578 -0.249008 -0.562004 -0.549309 -0.459606   \n",
       "3  0.205214  0.008264 -0.401578 -0.249008  1.401933  0.681911 -0.459606   \n",
       "4  0.805519  0.522158  1.975666  0.500311  1.311638  1.896665 -0.373168   \n",
       "\n",
       "          7         8         9        10         11        12  \n",
       "0 -0.757614 -0.320331 -0.309603  2.522763  -0.084367 -2.449490  \n",
       "1 -0.628451  2.589939 -0.309603 -0.396391  -0.084367  0.408248  \n",
       "2 -0.657154 -0.320331 -0.309603 -0.396391  11.852924 -2.449490  \n",
       "3 -0.843723 -0.320331 -0.309603  2.522763  -0.084367 -2.449490  \n",
       "4 -0.732210  1.930372 -0.309603 -0.396391  -0.084367  0.408248  "
      ]
     },
     "execution_count": 4,
     "metadata": {},
     "output_type": "execute_result"
    }
   ],
   "source": [
    "X_train.head()"
   ]
  },
  {
   "cell_type": "code",
   "execution_count": 5,
   "id": "6b7efb35",
   "metadata": {
    "colab": {
     "base_uri": "https://localhost:8080/",
     "height": 206
    },
    "id": "6b7efb35",
    "outputId": "baf19106-16fa-4d6f-de3f-c20cbcb961c0"
   },
   "outputs": [
    {
     "data": {
      "text/html": [
       "\n",
       "  <div id=\"df-d015d4e9-8143-4da9-87d5-b857870050e8\">\n",
       "    <div class=\"colab-df-container\">\n",
       "      <div>\n",
       "<style scoped>\n",
       "    .dataframe tbody tr th:only-of-type {\n",
       "        vertical-align: middle;\n",
       "    }\n",
       "\n",
       "    .dataframe tbody tr th {\n",
       "        vertical-align: top;\n",
       "    }\n",
       "\n",
       "    .dataframe thead th {\n",
       "        text-align: right;\n",
       "    }\n",
       "</style>\n",
       "<table border=\"1\" class=\"dataframe\">\n",
       "  <thead>\n",
       "    <tr style=\"text-align: right;\">\n",
       "      <th></th>\n",
       "      <th>0</th>\n",
       "      <th>1</th>\n",
       "      <th>2</th>\n",
       "      <th>3</th>\n",
       "      <th>4</th>\n",
       "      <th>5</th>\n",
       "      <th>6</th>\n",
       "      <th>7</th>\n",
       "      <th>8</th>\n",
       "      <th>9</th>\n",
       "      <th>10</th>\n",
       "      <th>11</th>\n",
       "      <th>12</th>\n",
       "    </tr>\n",
       "  </thead>\n",
       "  <tbody>\n",
       "    <tr>\n",
       "      <th>0</th>\n",
       "      <td>-0.695244</td>\n",
       "      <td>-0.464002</td>\n",
       "      <td>-0.401578</td>\n",
       "      <td>-0.249008</td>\n",
       "      <td>-0.697448</td>\n",
       "      <td>-0.629112</td>\n",
       "      <td>1.614895</td>\n",
       "      <td>3.246437</td>\n",
       "      <td>-0.320331</td>\n",
       "      <td>-0.309603</td>\n",
       "      <td>2.522763</td>\n",
       "      <td>-0.084367</td>\n",
       "      <td>-2.449490</td>\n",
       "    </tr>\n",
       "    <tr>\n",
       "      <th>1</th>\n",
       "      <td>0.805519</td>\n",
       "      <td>7.748440</td>\n",
       "      <td>-0.401578</td>\n",
       "      <td>-0.249008</td>\n",
       "      <td>0.047494</td>\n",
       "      <td>-0.319019</td>\n",
       "      <td>-0.459606</td>\n",
       "      <td>-0.261692</td>\n",
       "      <td>0.115159</td>\n",
       "      <td>-0.309603</td>\n",
       "      <td>-0.396391</td>\n",
       "      <td>-0.084367</td>\n",
       "      <td>0.408248</td>\n",
       "    </tr>\n",
       "    <tr>\n",
       "      <th>2</th>\n",
       "      <td>-0.695244</td>\n",
       "      <td>-0.464002</td>\n",
       "      <td>-0.401578</td>\n",
       "      <td>-0.249008</td>\n",
       "      <td>-0.674874</td>\n",
       "      <td>-0.590638</td>\n",
       "      <td>-0.459606</td>\n",
       "      <td>0.146526</td>\n",
       "      <td>-0.320331</td>\n",
       "      <td>-0.309603</td>\n",
       "      <td>-0.396391</td>\n",
       "      <td>-0.084367</td>\n",
       "      <td>0.408248</td>\n",
       "    </tr>\n",
       "    <tr>\n",
       "      <th>3</th>\n",
       "      <td>-0.094939</td>\n",
       "      <td>0.104574</td>\n",
       "      <td>-0.401578</td>\n",
       "      <td>-0.249008</td>\n",
       "      <td>-0.268542</td>\n",
       "      <td>-0.417506</td>\n",
       "      <td>-0.459606</td>\n",
       "      <td>-0.817890</td>\n",
       "      <td>-0.320331</td>\n",
       "      <td>-0.309603</td>\n",
       "      <td>-0.396391</td>\n",
       "      <td>-0.084367</td>\n",
       "      <td>0.408248</td>\n",
       "    </tr>\n",
       "    <tr>\n",
       "      <th>4</th>\n",
       "      <td>0.505366</td>\n",
       "      <td>-0.136201</td>\n",
       "      <td>-0.401578</td>\n",
       "      <td>-0.249008</td>\n",
       "      <td>-0.539430</td>\n",
       "      <td>-0.522562</td>\n",
       "      <td>-0.459606</td>\n",
       "      <td>-0.680116</td>\n",
       "      <td>-0.320331</td>\n",
       "      <td>-0.309603</td>\n",
       "      <td>2.522763</td>\n",
       "      <td>-0.084367</td>\n",
       "      <td>-2.449490</td>\n",
       "    </tr>\n",
       "  </tbody>\n",
       "</table>\n",
       "</div>\n",
       "      <button class=\"colab-df-convert\" onclick=\"convertToInteractive('df-d015d4e9-8143-4da9-87d5-b857870050e8')\"\n",
       "              title=\"Convert this dataframe to an interactive table.\"\n",
       "              style=\"display:none;\">\n",
       "        \n",
       "  <svg xmlns=\"http://www.w3.org/2000/svg\" height=\"24px\"viewBox=\"0 0 24 24\"\n",
       "       width=\"24px\">\n",
       "    <path d=\"M0 0h24v24H0V0z\" fill=\"none\"/>\n",
       "    <path d=\"M18.56 5.44l.94 2.06.94-2.06 2.06-.94-2.06-.94-.94-2.06-.94 2.06-2.06.94zm-11 1L8.5 8.5l.94-2.06 2.06-.94-2.06-.94L8.5 2.5l-.94 2.06-2.06.94zm10 10l.94 2.06.94-2.06 2.06-.94-2.06-.94-.94-2.06-.94 2.06-2.06.94z\"/><path d=\"M17.41 7.96l-1.37-1.37c-.4-.4-.92-.59-1.43-.59-.52 0-1.04.2-1.43.59L10.3 9.45l-7.72 7.72c-.78.78-.78 2.05 0 2.83L4 21.41c.39.39.9.59 1.41.59.51 0 1.02-.2 1.41-.59l7.78-7.78 2.81-2.81c.8-.78.8-2.07 0-2.86zM5.41 20L4 18.59l7.72-7.72 1.47 1.35L5.41 20z\"/>\n",
       "  </svg>\n",
       "      </button>\n",
       "      \n",
       "  <style>\n",
       "    .colab-df-container {\n",
       "      display:flex;\n",
       "      flex-wrap:wrap;\n",
       "      gap: 12px;\n",
       "    }\n",
       "\n",
       "    .colab-df-convert {\n",
       "      background-color: #E8F0FE;\n",
       "      border: none;\n",
       "      border-radius: 50%;\n",
       "      cursor: pointer;\n",
       "      display: none;\n",
       "      fill: #1967D2;\n",
       "      height: 32px;\n",
       "      padding: 0 0 0 0;\n",
       "      width: 32px;\n",
       "    }\n",
       "\n",
       "    .colab-df-convert:hover {\n",
       "      background-color: #E2EBFA;\n",
       "      box-shadow: 0px 1px 2px rgba(60, 64, 67, 0.3), 0px 1px 3px 1px rgba(60, 64, 67, 0.15);\n",
       "      fill: #174EA6;\n",
       "    }\n",
       "\n",
       "    [theme=dark] .colab-df-convert {\n",
       "      background-color: #3B4455;\n",
       "      fill: #D2E3FC;\n",
       "    }\n",
       "\n",
       "    [theme=dark] .colab-df-convert:hover {\n",
       "      background-color: #434B5C;\n",
       "      box-shadow: 0px 1px 3px 1px rgba(0, 0, 0, 0.15);\n",
       "      filter: drop-shadow(0px 1px 2px rgba(0, 0, 0, 0.3));\n",
       "      fill: #FFFFFF;\n",
       "    }\n",
       "  </style>\n",
       "\n",
       "      <script>\n",
       "        const buttonEl =\n",
       "          document.querySelector('#df-d015d4e9-8143-4da9-87d5-b857870050e8 button.colab-df-convert');\n",
       "        buttonEl.style.display =\n",
       "          google.colab.kernel.accessAllowed ? 'block' : 'none';\n",
       "\n",
       "        async function convertToInteractive(key) {\n",
       "          const element = document.querySelector('#df-d015d4e9-8143-4da9-87d5-b857870050e8');\n",
       "          const dataTable =\n",
       "            await google.colab.kernel.invokeFunction('convertToInteractive',\n",
       "                                                     [key], {});\n",
       "          if (!dataTable) return;\n",
       "\n",
       "          const docLinkHtml = 'Like what you see? Visit the ' +\n",
       "            '<a target=\"_blank\" href=https://colab.research.google.com/notebooks/data_table.ipynb>data table notebook</a>'\n",
       "            + ' to learn more about interactive tables.';\n",
       "          element.innerHTML = '';\n",
       "          dataTable['output_type'] = 'display_data';\n",
       "          await google.colab.output.renderOutput(dataTable, element);\n",
       "          const docLink = document.createElement('div');\n",
       "          docLink.innerHTML = docLinkHtml;\n",
       "          element.appendChild(docLink);\n",
       "        }\n",
       "      </script>\n",
       "    </div>\n",
       "  </div>\n",
       "  "
      ],
      "text/plain": [
       "          0         1         2         3         4         5         6  \\\n",
       "0 -0.695244 -0.464002 -0.401578 -0.249008 -0.697448 -0.629112  1.614895   \n",
       "1  0.805519  7.748440 -0.401578 -0.249008  0.047494 -0.319019 -0.459606   \n",
       "2 -0.695244 -0.464002 -0.401578 -0.249008 -0.674874 -0.590638 -0.459606   \n",
       "3 -0.094939  0.104574 -0.401578 -0.249008 -0.268542 -0.417506 -0.459606   \n",
       "4  0.505366 -0.136201 -0.401578 -0.249008 -0.539430 -0.522562 -0.459606   \n",
       "\n",
       "          7         8         9        10        11        12  \n",
       "0  3.246437 -0.320331 -0.309603  2.522763 -0.084367 -2.449490  \n",
       "1 -0.261692  0.115159 -0.309603 -0.396391 -0.084367  0.408248  \n",
       "2  0.146526 -0.320331 -0.309603 -0.396391 -0.084367  0.408248  \n",
       "3 -0.817890 -0.320331 -0.309603 -0.396391 -0.084367  0.408248  \n",
       "4 -0.680116 -0.320331 -0.309603  2.522763 -0.084367 -2.449490  "
      ]
     },
     "execution_count": 5,
     "metadata": {},
     "output_type": "execute_result"
    }
   ],
   "source": [
    "X_test.head()"
   ]
  },
  {
   "cell_type": "code",
   "execution_count": 6,
   "id": "030cefd8",
   "metadata": {
    "colab": {
     "base_uri": "https://localhost:8080/",
     "height": 206
    },
    "id": "030cefd8",
    "outputId": "3b71b566-d0ec-4bfc-a196-b7b2ebef7d07"
   },
   "outputs": [
    {
     "data": {
      "text/html": [
       "\n",
       "  <div id=\"df-52b41006-b108-4898-8655-1d3d23e06336\">\n",
       "    <div class=\"colab-df-container\">\n",
       "      <div>\n",
       "<style scoped>\n",
       "    .dataframe tbody tr th:only-of-type {\n",
       "        vertical-align: middle;\n",
       "    }\n",
       "\n",
       "    .dataframe tbody tr th {\n",
       "        vertical-align: top;\n",
       "    }\n",
       "\n",
       "    .dataframe thead th {\n",
       "        text-align: right;\n",
       "    }\n",
       "</style>\n",
       "<table border=\"1\" class=\"dataframe\">\n",
       "  <thead>\n",
       "    <tr style=\"text-align: right;\">\n",
       "      <th></th>\n",
       "      <th>REVENUE</th>\n",
       "    </tr>\n",
       "  </thead>\n",
       "  <tbody>\n",
       "    <tr>\n",
       "      <th>0</th>\n",
       "      <td>0</td>\n",
       "    </tr>\n",
       "    <tr>\n",
       "      <th>1</th>\n",
       "      <td>1</td>\n",
       "    </tr>\n",
       "    <tr>\n",
       "      <th>2</th>\n",
       "      <td>0</td>\n",
       "    </tr>\n",
       "    <tr>\n",
       "      <th>3</th>\n",
       "      <td>0</td>\n",
       "    </tr>\n",
       "    <tr>\n",
       "      <th>4</th>\n",
       "      <td>1</td>\n",
       "    </tr>\n",
       "  </tbody>\n",
       "</table>\n",
       "</div>\n",
       "      <button class=\"colab-df-convert\" onclick=\"convertToInteractive('df-52b41006-b108-4898-8655-1d3d23e06336')\"\n",
       "              title=\"Convert this dataframe to an interactive table.\"\n",
       "              style=\"display:none;\">\n",
       "        \n",
       "  <svg xmlns=\"http://www.w3.org/2000/svg\" height=\"24px\"viewBox=\"0 0 24 24\"\n",
       "       width=\"24px\">\n",
       "    <path d=\"M0 0h24v24H0V0z\" fill=\"none\"/>\n",
       "    <path d=\"M18.56 5.44l.94 2.06.94-2.06 2.06-.94-2.06-.94-.94-2.06-.94 2.06-2.06.94zm-11 1L8.5 8.5l.94-2.06 2.06-.94-2.06-.94L8.5 2.5l-.94 2.06-2.06.94zm10 10l.94 2.06.94-2.06 2.06-.94-2.06-.94-.94-2.06-.94 2.06-2.06.94z\"/><path d=\"M17.41 7.96l-1.37-1.37c-.4-.4-.92-.59-1.43-.59-.52 0-1.04.2-1.43.59L10.3 9.45l-7.72 7.72c-.78.78-.78 2.05 0 2.83L4 21.41c.39.39.9.59 1.41.59.51 0 1.02-.2 1.41-.59l7.78-7.78 2.81-2.81c.8-.78.8-2.07 0-2.86zM5.41 20L4 18.59l7.72-7.72 1.47 1.35L5.41 20z\"/>\n",
       "  </svg>\n",
       "      </button>\n",
       "      \n",
       "  <style>\n",
       "    .colab-df-container {\n",
       "      display:flex;\n",
       "      flex-wrap:wrap;\n",
       "      gap: 12px;\n",
       "    }\n",
       "\n",
       "    .colab-df-convert {\n",
       "      background-color: #E8F0FE;\n",
       "      border: none;\n",
       "      border-radius: 50%;\n",
       "      cursor: pointer;\n",
       "      display: none;\n",
       "      fill: #1967D2;\n",
       "      height: 32px;\n",
       "      padding: 0 0 0 0;\n",
       "      width: 32px;\n",
       "    }\n",
       "\n",
       "    .colab-df-convert:hover {\n",
       "      background-color: #E2EBFA;\n",
       "      box-shadow: 0px 1px 2px rgba(60, 64, 67, 0.3), 0px 1px 3px 1px rgba(60, 64, 67, 0.15);\n",
       "      fill: #174EA6;\n",
       "    }\n",
       "\n",
       "    [theme=dark] .colab-df-convert {\n",
       "      background-color: #3B4455;\n",
       "      fill: #D2E3FC;\n",
       "    }\n",
       "\n",
       "    [theme=dark] .colab-df-convert:hover {\n",
       "      background-color: #434B5C;\n",
       "      box-shadow: 0px 1px 3px 1px rgba(0, 0, 0, 0.15);\n",
       "      filter: drop-shadow(0px 1px 2px rgba(0, 0, 0, 0.3));\n",
       "      fill: #FFFFFF;\n",
       "    }\n",
       "  </style>\n",
       "\n",
       "      <script>\n",
       "        const buttonEl =\n",
       "          document.querySelector('#df-52b41006-b108-4898-8655-1d3d23e06336 button.colab-df-convert');\n",
       "        buttonEl.style.display =\n",
       "          google.colab.kernel.accessAllowed ? 'block' : 'none';\n",
       "\n",
       "        async function convertToInteractive(key) {\n",
       "          const element = document.querySelector('#df-52b41006-b108-4898-8655-1d3d23e06336');\n",
       "          const dataTable =\n",
       "            await google.colab.kernel.invokeFunction('convertToInteractive',\n",
       "                                                     [key], {});\n",
       "          if (!dataTable) return;\n",
       "\n",
       "          const docLinkHtml = 'Like what you see? Visit the ' +\n",
       "            '<a target=\"_blank\" href=https://colab.research.google.com/notebooks/data_table.ipynb>data table notebook</a>'\n",
       "            + ' to learn more about interactive tables.';\n",
       "          element.innerHTML = '';\n",
       "          dataTable['output_type'] = 'display_data';\n",
       "          await google.colab.output.renderOutput(dataTable, element);\n",
       "          const docLink = document.createElement('div');\n",
       "          docLink.innerHTML = docLinkHtml;\n",
       "          element.appendChild(docLink);\n",
       "        }\n",
       "      </script>\n",
       "    </div>\n",
       "  </div>\n",
       "  "
      ],
      "text/plain": [
       "   REVENUE\n",
       "0        0\n",
       "1        1\n",
       "2        0\n",
       "3        0\n",
       "4        1"
      ]
     },
     "execution_count": 6,
     "metadata": {},
     "output_type": "execute_result"
    }
   ],
   "source": [
    "y_train.head()"
   ]
  },
  {
   "cell_type": "code",
   "execution_count": 7,
   "id": "012caa57",
   "metadata": {
    "colab": {
     "base_uri": "https://localhost:8080/",
     "height": 206
    },
    "id": "012caa57",
    "outputId": "2a12188c-131d-4ba5-9b29-5911e6356475"
   },
   "outputs": [
    {
     "data": {
      "text/html": [
       "\n",
       "  <div id=\"df-ddbef33b-d0ae-4490-9843-0696167adb00\">\n",
       "    <div class=\"colab-df-container\">\n",
       "      <div>\n",
       "<style scoped>\n",
       "    .dataframe tbody tr th:only-of-type {\n",
       "        vertical-align: middle;\n",
       "    }\n",
       "\n",
       "    .dataframe tbody tr th {\n",
       "        vertical-align: top;\n",
       "    }\n",
       "\n",
       "    .dataframe thead th {\n",
       "        text-align: right;\n",
       "    }\n",
       "</style>\n",
       "<table border=\"1\" class=\"dataframe\">\n",
       "  <thead>\n",
       "    <tr style=\"text-align: right;\">\n",
       "      <th></th>\n",
       "      <th>REVENUE</th>\n",
       "    </tr>\n",
       "  </thead>\n",
       "  <tbody>\n",
       "    <tr>\n",
       "      <th>0</th>\n",
       "      <td>0</td>\n",
       "    </tr>\n",
       "    <tr>\n",
       "      <th>1</th>\n",
       "      <td>1</td>\n",
       "    </tr>\n",
       "    <tr>\n",
       "      <th>2</th>\n",
       "      <td>0</td>\n",
       "    </tr>\n",
       "    <tr>\n",
       "      <th>3</th>\n",
       "      <td>0</td>\n",
       "    </tr>\n",
       "    <tr>\n",
       "      <th>4</th>\n",
       "      <td>0</td>\n",
       "    </tr>\n",
       "  </tbody>\n",
       "</table>\n",
       "</div>\n",
       "      <button class=\"colab-df-convert\" onclick=\"convertToInteractive('df-ddbef33b-d0ae-4490-9843-0696167adb00')\"\n",
       "              title=\"Convert this dataframe to an interactive table.\"\n",
       "              style=\"display:none;\">\n",
       "        \n",
       "  <svg xmlns=\"http://www.w3.org/2000/svg\" height=\"24px\"viewBox=\"0 0 24 24\"\n",
       "       width=\"24px\">\n",
       "    <path d=\"M0 0h24v24H0V0z\" fill=\"none\"/>\n",
       "    <path d=\"M18.56 5.44l.94 2.06.94-2.06 2.06-.94-2.06-.94-.94-2.06-.94 2.06-2.06.94zm-11 1L8.5 8.5l.94-2.06 2.06-.94-2.06-.94L8.5 2.5l-.94 2.06-2.06.94zm10 10l.94 2.06.94-2.06 2.06-.94-2.06-.94-.94-2.06-.94 2.06-2.06.94z\"/><path d=\"M17.41 7.96l-1.37-1.37c-.4-.4-.92-.59-1.43-.59-.52 0-1.04.2-1.43.59L10.3 9.45l-7.72 7.72c-.78.78-.78 2.05 0 2.83L4 21.41c.39.39.9.59 1.41.59.51 0 1.02-.2 1.41-.59l7.78-7.78 2.81-2.81c.8-.78.8-2.07 0-2.86zM5.41 20L4 18.59l7.72-7.72 1.47 1.35L5.41 20z\"/>\n",
       "  </svg>\n",
       "      </button>\n",
       "      \n",
       "  <style>\n",
       "    .colab-df-container {\n",
       "      display:flex;\n",
       "      flex-wrap:wrap;\n",
       "      gap: 12px;\n",
       "    }\n",
       "\n",
       "    .colab-df-convert {\n",
       "      background-color: #E8F0FE;\n",
       "      border: none;\n",
       "      border-radius: 50%;\n",
       "      cursor: pointer;\n",
       "      display: none;\n",
       "      fill: #1967D2;\n",
       "      height: 32px;\n",
       "      padding: 0 0 0 0;\n",
       "      width: 32px;\n",
       "    }\n",
       "\n",
       "    .colab-df-convert:hover {\n",
       "      background-color: #E2EBFA;\n",
       "      box-shadow: 0px 1px 2px rgba(60, 64, 67, 0.3), 0px 1px 3px 1px rgba(60, 64, 67, 0.15);\n",
       "      fill: #174EA6;\n",
       "    }\n",
       "\n",
       "    [theme=dark] .colab-df-convert {\n",
       "      background-color: #3B4455;\n",
       "      fill: #D2E3FC;\n",
       "    }\n",
       "\n",
       "    [theme=dark] .colab-df-convert:hover {\n",
       "      background-color: #434B5C;\n",
       "      box-shadow: 0px 1px 3px 1px rgba(0, 0, 0, 0.15);\n",
       "      filter: drop-shadow(0px 1px 2px rgba(0, 0, 0, 0.3));\n",
       "      fill: #FFFFFF;\n",
       "    }\n",
       "  </style>\n",
       "\n",
       "      <script>\n",
       "        const buttonEl =\n",
       "          document.querySelector('#df-ddbef33b-d0ae-4490-9843-0696167adb00 button.colab-df-convert');\n",
       "        buttonEl.style.display =\n",
       "          google.colab.kernel.accessAllowed ? 'block' : 'none';\n",
       "\n",
       "        async function convertToInteractive(key) {\n",
       "          const element = document.querySelector('#df-ddbef33b-d0ae-4490-9843-0696167adb00');\n",
       "          const dataTable =\n",
       "            await google.colab.kernel.invokeFunction('convertToInteractive',\n",
       "                                                     [key], {});\n",
       "          if (!dataTable) return;\n",
       "\n",
       "          const docLinkHtml = 'Like what you see? Visit the ' +\n",
       "            '<a target=\"_blank\" href=https://colab.research.google.com/notebooks/data_table.ipynb>data table notebook</a>'\n",
       "            + ' to learn more about interactive tables.';\n",
       "          element.innerHTML = '';\n",
       "          dataTable['output_type'] = 'display_data';\n",
       "          await google.colab.output.renderOutput(dataTable, element);\n",
       "          const docLink = document.createElement('div');\n",
       "          docLink.innerHTML = docLinkHtml;\n",
       "          element.appendChild(docLink);\n",
       "        }\n",
       "      </script>\n",
       "    </div>\n",
       "  </div>\n",
       "  "
      ],
      "text/plain": [
       "   REVENUE\n",
       "0        0\n",
       "1        1\n",
       "2        0\n",
       "3        0\n",
       "4        0"
      ]
     },
     "execution_count": 7,
     "metadata": {},
     "output_type": "execute_result"
    }
   ],
   "source": [
    "y_test.head()"
   ]
  },
  {
   "cell_type": "markdown",
   "id": "c633e410",
   "metadata": {
    "id": "c633e410"
   },
   "source": [
    "# 3.0 Performance metrics Identification"
   ]
  },
  {
   "cell_type": "markdown",
   "id": "73539363",
   "metadata": {
    "id": "73539363"
   },
   "source": [
    "### As this company is new to the market and wants to spend more on marketing campaigns to reach as many potential customers, building its own brand and focusing on product sales."
   ]
  },
  {
   "cell_type": "markdown",
   "id": "9882df77",
   "metadata": {
    "id": "9882df77"
   },
   "source": [
    "True Positives (TP): Users who were correctly identified by the model as potential customers who made a purchase.\n",
    "\n",
    "False Positives (FP): Users who were incorrectly identified by the model as potential customers who made a purchase, but in reality, they did not.\n",
    "\n",
    "True Negatives (TN): Users who were correctly identified by the model as non-potential customers who did not make a purchase.\n",
    "\n",
    "False Negatives (FN): Users who were incorrectly identified by the model as non-potential customers who did not make a purchase, but in reality, they did."
   ]
  },
  {
   "cell_type": "markdown",
   "id": "7a2a1045",
   "metadata": {
    "id": "7a2a1045"
   },
   "source": [
    "##### Selecting Performace metrics\n",
    "\n",
    "Clearly, our data set is imblanced and the majority class is 0 (not purchased) and the minority class is 1 (purchased). If we choose accuracy, it will focus on the majority class, which is not good in our case. Then we need to focus on Recall, Precision and F1 score.\n",
    "\n",
    "Recall and precision score depends on the specific goal of the analysis and the trade-off between identifying all positive instances (high recall) and minimizing the number of false positives (high precision).\n",
    "\n",
    "To minimize the number of false positives, even if it means potentially missing some positive instances, then precision should be the primary metric to focus on. A high precision means that the model is able to correctly identify positive instances with a high degree of certainty, which is important for minimizing the cost of false positives, such as wasting resources on marketing campaigns to non-interested customers. however the company is more concerned with not missing out on potential customers and wants to minimize False Negatives (FN), they prioritize maximizing Recall, which measures the proportion of true positives among all actual positive cases (TP / (TP + FN)). A higher Recall score indicates that the model is better at identifying all positive cases, even if it means making more false positive predictions that meansidentify all users who are likely to make a purchase, regardless of the number of false positives.\n"
   ]
  },
  {
   "cell_type": "markdown",
   "id": "78432e70",
   "metadata": {
    "id": "78432e70"
   },
   "source": [
    "#### Recall Score- Performance metrics"
   ]
  },
  {
   "cell_type": "markdown",
   "id": "6a812878",
   "metadata": {
    "id": "6a812878"
   },
   "source": [
    "# 3.0 Model the Data"
   ]
  },
  {
   "cell_type": "markdown",
   "id": "32d58497",
   "metadata": {
    "id": "32d58497"
   },
   "source": [
    "## 3.1 Fit and test a Logistic Regression model"
   ]
  },
  {
   "cell_type": "code",
   "execution_count": 8,
   "id": "d98be697",
   "metadata": {
    "id": "d98be697"
   },
   "outputs": [],
   "source": [
    "log_reg_model = LogisticRegression(penalty=None, max_iter=900)\n",
    "_ = log_reg_model.fit(X_train, np.ravel(y_train))"
   ]
  },
  {
   "cell_type": "code",
   "execution_count": 9,
   "id": "401ce3db",
   "metadata": {
    "colab": {
     "base_uri": "https://localhost:8080/"
    },
    "id": "401ce3db",
    "outputId": "cd6bb206-0a40-4a35-d30e-35187786a5a1"
   },
   "outputs": [
    {
     "name": "stdout",
     "output_type": "stream",
     "text": [
      "************************************\n",
      "Recall Score:     0.7454545454545455\n",
      "************************************\n",
      "Accuracy Score:   0.874831035414977\n",
      "Precision Score:  0.5593451568894953\n",
      "F1 Score:         0.6391270459859704\n",
      "************************************\n",
      "Confusion Matrix: [[2826  323]\n",
      " [ 140  410]]\n"
     ]
    }
   ],
   "source": [
    "y_pred = log_reg_model.predict(X_test)\n",
    "print(\"************************************\")\n",
    "print(f\"{'Recall Score:':18}{recall_score(y_test, y_pred)}\")\n",
    "print(\"************************************\")\n",
    "print(f\"{'Accuracy Score: ':18}{accuracy_score(y_test, y_pred)}\")\n",
    "print(f\"{'Precision Score: ':18}{precision_score(y_test, y_pred)}\")\n",
    "print(f\"{'F1 Score: ':18}{f1_score(y_test, y_pred)}\")\n",
    "print(\"************************************\")\n",
    "print(f\"{'Confusion Matrix: ':18}{confusion_matrix(y_test, y_pred)}\")"
   ]
  },
  {
   "cell_type": "code",
   "execution_count": 10,
   "id": "2bdadce6",
   "metadata": {
    "id": "2bdadce6"
   },
   "outputs": [],
   "source": [
    "lr_default_recall = recall_score(y_test, y_pred)"
   ]
  },
  {
   "cell_type": "markdown",
   "id": "f7e104b1",
   "metadata": {
    "id": "f7e104b1"
   },
   "source": [
    "# 3.2 Fit a LogisticRegression model with Random Search"
   ]
  },
  {
   "cell_type": "code",
   "execution_count": 12,
   "id": "f21f08a2",
   "metadata": {
    "colab": {
     "base_uri": "https://localhost:8080/"
    },
    "id": "f21f08a2",
    "outputId": "845ec1ac-c979-4e98-826a-320c242c15d4"
   },
   "outputs": [
    {
     "name": "stdout",
     "output_type": "stream",
     "text": [
      "Fitting 3 folds for each of 40 candidates, totalling 120 fits\n",
      "The best recall score is 0.7448074807480749\n",
      "... with parameters: {'solver': 'liblinear', 'penalty': 'l1', 'C': 5}\n"
     ]
    }
   ],
   "source": [
    "score_measure = \"recall\"\n",
    "kfolds = 3\n",
    "param_grid = { 'solver': [ 'liblinear', 'saga'],\n",
    "                      'penalty': ['l1', 'l2'], # NOTE: 'elasticnet' is only supported by 'saga' solver\n",
    "                      'C': np.arange(5,15),\n",
    "                      # number of iterations to converge (sometimes the default is not enough - and sometimes, it will never converge)\n",
    "                     }\n",
    "logi_reg = LogisticRegression()\n",
    "rand_search = RandomizedSearchCV(estimator = logi_reg, param_distributions=param_grid, cv=kfolds, n_iter=40,\n",
    "                           scoring=score_measure, verbose=1, n_jobs=-1,\n",
    "                           return_train_score=True)\n",
    "\n",
    "_ = rand_search.fit(X_train, np.ravel(y_train))\n",
    "\n",
    "print(f\"The best {score_measure} score is {rand_search.best_score_}\")\n",
    "print(f\"... with parameters: {rand_search.best_params_}\")\n",
    "\n",
    "best_logi_reg_rand = rand_search.best_estimator_"
   ]
  },
  {
   "cell_type": "code",
   "execution_count": 13,
   "id": "a6216b92",
   "metadata": {
    "colab": {
     "base_uri": "https://localhost:8080/"
    },
    "id": "a6216b92",
    "outputId": "6feb9d48-bf85-48c5-e849-957b09ac9434"
   },
   "outputs": [
    {
     "name": "stdout",
     "output_type": "stream",
     "text": [
      "************************************\n",
      "Recall Score:     0.7454545454545455\n",
      "************************************\n",
      "Accuracy Score:   0.874831035414977\n",
      "Precision Score:  0.5593451568894953\n",
      "F1 Score:         0.6391270459859704\n",
      "************************************\n",
      "Confusion Matrix: [[2826  323]\n",
      " [ 140  410]]\n"
     ]
    }
   ],
   "source": [
    "y_pred = rand_search.predict(X_test)\n",
    "print(\"************************************\")\n",
    "print(f\"{'Recall Score:':18}{recall_score(y_test, y_pred)}\")\n",
    "print(\"************************************\")\n",
    "print(f\"{'Accuracy Score: ':18}{accuracy_score(y_test, y_pred)}\")\n",
    "print(f\"{'Precision Score: ':18}{precision_score(y_test, y_pred)}\")\n",
    "print(f\"{'F1 Score: ':18}{f1_score(y_test, y_pred)}\")\n",
    "print(\"************************************\")\n",
    "print(f\"{'Confusion Matrix: ':18}{confusion_matrix(y_test, y_pred)}\")"
   ]
  },
  {
   "cell_type": "code",
   "execution_count": 14,
   "id": "9729b718",
   "metadata": {
    "id": "9729b718"
   },
   "outputs": [],
   "source": [
    "lr_rand_recall = recall_score(y_test, y_pred)"
   ]
  },
  {
   "cell_type": "markdown",
   "id": "e391b499",
   "metadata": {
    "id": "e391b499"
   },
   "source": [
    "# 3.3 Fit a LogisticRegression model with Grid Search"
   ]
  },
  {
   "cell_type": "code",
   "execution_count": 15,
   "id": "7c3b2daa",
   "metadata": {
    "colab": {
     "base_uri": "https://localhost:8080/"
    },
    "id": "7c3b2daa",
    "outputId": "7121c3f2-af01-40e8-9423-53380add0807"
   },
   "outputs": [
    {
     "name": "stdout",
     "output_type": "stream",
     "text": [
      "Fitting 5 folds for each of 3 candidates, totalling 15 fits\n",
      "The best recall score is 0.745087801396314\n",
      "... with parameters: {'C': 7, 'penalty': 'l1', 'solver': 'liblinear'}\n"
     ]
    }
   ],
   "source": [
    "score_measure = \"recall\"\n",
    "kfolds = 5\n",
    "\n",
    "penalty= rand_search.best_params_['penalty']\n",
    "solver =rand_search.best_params_['solver']\n",
    "C =rand_search.best_params_['C']\n",
    "param_grid = {\n",
    "    'C': [C+2,C,C-2],\n",
    "    'penalty': [penalty],\n",
    "    'solver': [solver]\n",
    "}\n",
    "\n",
    "logi_reg = LogisticRegression()\n",
    "grid_search = GridSearchCV(estimator = logi_reg, param_grid=param_grid, cv=kfolds, \n",
    "                           scoring=score_measure, verbose=1, n_jobs=-1,  # n_jobs=-1 will utilize all available CPUs \n",
    "                           return_train_score=True)\n",
    "\n",
    "_ = grid_search.fit(X_train, np.ravel(y_train))\n",
    "\n",
    "print(f\"The best {score_measure} score is {grid_search.best_score_}\")\n",
    "print(f\"... with parameters: {grid_search.best_params_}\")\n",
    "\n",
    "best_SVM_linear = grid_search.best_estimator_"
   ]
  },
  {
   "cell_type": "code",
   "execution_count": 16,
   "id": "bda3a904",
   "metadata": {
    "colab": {
     "base_uri": "https://localhost:8080/"
    },
    "id": "bda3a904",
    "outputId": "c6cb4740-1b91-4a7b-a876-d04621a00811"
   },
   "outputs": [
    {
     "name": "stdout",
     "output_type": "stream",
     "text": [
      "************************************\n",
      "Recall Score:     0.7454545454545455\n",
      "************************************\n",
      "Accuracy Score:   0.874831035414977\n",
      "Precision Score:  0.5593451568894953\n",
      "F1 Score:         0.6391270459859704\n",
      "************************************\n",
      "Confusion Matrix: [[2826  323]\n",
      " [ 140  410]]\n"
     ]
    }
   ],
   "source": [
    "y_pred = grid_search.predict(X_test)\n",
    "print(\"************************************\")\n",
    "print(f\"{'Recall Score:':18}{recall_score(y_test, y_pred)}\")\n",
    "print(\"************************************\")\n",
    "print(f\"{'Accuracy Score: ':18}{accuracy_score(y_test, y_pred)}\")\n",
    "print(f\"{'Precision Score: ':18}{precision_score(y_test, y_pred)}\")\n",
    "print(f\"{'F1 Score: ':18}{f1_score(y_test, y_pred)}\")\n",
    "print(\"************************************\")\n",
    "print(f\"{'Confusion Matrix: ':18}{confusion_matrix(y_test, y_pred)}\")"
   ]
  },
  {
   "cell_type": "code",
   "execution_count": 17,
   "id": "30a45c3a",
   "metadata": {
    "id": "30a45c3a"
   },
   "outputs": [],
   "source": [
    "lr_grid_recall = recall_score(y_test, y_pred)"
   ]
  },
  {
   "cell_type": "markdown",
   "id": "818fead3",
   "metadata": {
    "id": "818fead3"
   },
   "source": [
    "# 3.4 Fit a SVM classification model using linear kernal"
   ]
  },
  {
   "cell_type": "code",
   "execution_count": 18,
   "id": "2211358b",
   "metadata": {
    "id": "2211358b"
   },
   "outputs": [],
   "source": [
    "svm_lin_model = SVC(kernel=\"linear\")\n",
    "_ = svm_lin_model.fit(X_train, np.ravel(y_train))"
   ]
  },
  {
   "cell_type": "code",
   "execution_count": 19,
   "id": "24e08b6f",
   "metadata": {
    "colab": {
     "base_uri": "https://localhost:8080/"
    },
    "id": "24e08b6f",
    "outputId": "8e5edcda-1da6-42c2-b19a-0286ef8e191e"
   },
   "outputs": [
    {
     "name": "stdout",
     "output_type": "stream",
     "text": [
      "************************************\n",
      "Recall Score:     0.730909090909091\n",
      "************************************\n",
      "Accuracy Score:   0.8799675587996756\n",
      "Precision Score:  0.5759312320916905\n",
      "F1 Score:         0.6442307692307692\n",
      "************************************\n",
      "Confusion Matrix: [[2853  296]\n",
      " [ 148  402]]\n"
     ]
    }
   ],
   "source": [
    "y_pred = svm_lin_model.predict(X_test)\n",
    "print(\"************************************\")\n",
    "print(f\"{'Recall Score:':18}{recall_score(y_test, y_pred)}\")\n",
    "print(\"************************************\")\n",
    "print(f\"{'Accuracy Score: ':18}{accuracy_score(y_test, y_pred)}\")\n",
    "print(f\"{'Precision Score: ':18}{precision_score(y_test, y_pred)}\")\n",
    "print(f\"{'F1 Score: ':18}{f1_score(y_test, y_pred)}\")\n",
    "print(\"************************************\")\n",
    "print(f\"{'Confusion Matrix: ':18}{confusion_matrix(y_test, y_pred)}\")"
   ]
  },
  {
   "cell_type": "code",
   "execution_count": 20,
   "id": "703785fa",
   "metadata": {
    "id": "703785fa"
   },
   "outputs": [],
   "source": [
    "svm_linear_default_recall = recall_score(y_test, y_pred)"
   ]
  },
  {
   "cell_type": "markdown",
   "id": "625fdaf1",
   "metadata": {
    "id": "625fdaf1"
   },
   "source": [
    "# 3.5 Fit a SVM classification model using linear kernal with Random Search"
   ]
  },
  {
   "cell_type": "code",
   "execution_count": 41,
   "id": "e2689e9c",
   "metadata": {
    "colab": {
     "base_uri": "https://localhost:8080/"
    },
    "id": "e2689e9c",
    "outputId": "d3991fee-c018-4d97-9f7c-1c2e5830646f"
   },
   "outputs": [
    {
     "name": "stderr",
     "output_type": "stream",
     "text": [
      "/usr/local/lib/python3.9/dist-packages/sklearn/model_selection/_search.py:305: UserWarning: The total space of parameters 4 is smaller than n_iter=20. Running 4 iterations. For exhaustive searches, use GridSearchCV.\n",
      "  warnings.warn(\n"
     ]
    },
    {
     "name": "stdout",
     "output_type": "stream",
     "text": [
      "Fitting 2 folds for each of 4 candidates, totalling 8 fits\n",
      "The best recall score is 0.7401358743243035\n",
      "... with parameters: {'kernel': 'linear', 'C': 5}\n"
     ]
    }
   ],
   "source": [
    "score_measure = \"recall\"\n",
    "kfolds = 2\n",
    "\n",
    "param_grid = {\n",
    "    'C': [5,10,15,20],\n",
    "    'kernel': ['linear'],\n",
    "    \n",
    "}\n",
    "\n",
    "svm = SVC()\n",
    "rand_search = RandomizedSearchCV(estimator =svm, param_distributions=param_grid, cv=kfolds, n_iter=20,\n",
    "                           scoring=score_measure, verbose=1, n_jobs=-1,\n",
    "                           return_train_score=True)\n",
    "\n",
    "_ = rand_search.fit(X_train, np.ravel(y_train))\n",
    "\n",
    "print(f\"The best {score_measure} score is {rand_search.best_score_}\")\n",
    "print(f\"... with parameters: {rand_search.best_params_}\")\n",
    "\n",
    "best_SVM_linear = rand_search.best_estimator_"
   ]
  },
  {
   "cell_type": "code",
   "execution_count": 42,
   "id": "0626ccba",
   "metadata": {
    "colab": {
     "base_uri": "https://localhost:8080/"
    },
    "id": "0626ccba",
    "outputId": "aa844c7d-bdff-4405-fd85-bcce9f51acab"
   },
   "outputs": [
    {
     "name": "stdout",
     "output_type": "stream",
     "text": [
      "************************************\n",
      "Recall Score:     0.730909090909091\n",
      "************************************\n",
      "Accuracy Score:   0.8799675587996756\n",
      "Precision Score:  0.5759312320916905\n",
      "F1 Score:         0.6442307692307692\n",
      "************************************\n",
      "Confusion Matrix: [[2853  296]\n",
      " [ 148  402]]\n"
     ]
    }
   ],
   "source": [
    "y_pred = rand_search.predict(X_test)\n",
    "print(\"************************************\")\n",
    "print(f\"{'Recall Score:':18}{recall_score(y_test, y_pred)}\")\n",
    "print(\"************************************\")\n",
    "print(f\"{'Accuracy Score: ':18}{accuracy_score(y_test, y_pred)}\")\n",
    "print(f\"{'Precision Score: ':18}{precision_score(y_test, y_pred)}\")\n",
    "print(f\"{'F1 Score: ':18}{f1_score(y_test, y_pred)}\")\n",
    "print(\"************************************\")\n",
    "print(f\"{'Confusion Matrix: ':18}{confusion_matrix(y_test, y_pred)}\")"
   ]
  },
  {
   "cell_type": "code",
   "execution_count": 43,
   "id": "389d70d1",
   "metadata": {
    "id": "389d70d1"
   },
   "outputs": [],
   "source": [
    "svm_linear_rand_recall = recall_score(y_test, y_pred)"
   ]
  },
  {
   "cell_type": "markdown",
   "id": "eac5437e",
   "metadata": {
    "id": "eac5437e"
   },
   "source": [
    "# 3.6 Fit a SVM classification model using linear kernal with Grid Search"
   ]
  },
  {
   "cell_type": "code",
   "execution_count": 44,
   "id": "5be2b4d9",
   "metadata": {
    "colab": {
     "base_uri": "https://localhost:8080/"
    },
    "id": "5be2b4d9",
    "outputId": "eded996c-24d4-464c-a00c-02fb4b107b29"
   },
   "outputs": [
    {
     "name": "stdout",
     "output_type": "stream",
     "text": [
      "Fitting 2 folds for each of 3 candidates, totalling 6 fits\n",
      "The best recall score is 0.7401358743243035\n",
      "... with parameters: {'C': 7}\n"
     ]
    }
   ],
   "source": [
    "score_measure = \"recall\"\n",
    "kfolds = 2\n",
    "\n",
    "C = rand_search.best_params_['C']\n",
    "\n",
    "param_grid = {\n",
    "    'C': [C+2,C,C-2]\n",
    "}\n",
    "\n",
    "svm_linear_model = SVC(kernel=\"linear\")\n",
    "grid_search = GridSearchCV(estimator = svm_linear_model, param_grid=param_grid, cv=kfolds, \n",
    "                           scoring=score_measure, verbose=1, n_jobs=-1,  # n_jobs=-1 will utilize all available CPUs \n",
    "                           return_train_score=True)\n",
    "\n",
    "_ = grid_search.fit(X_train, np.ravel(y_train))\n",
    "\n",
    "print(f\"The best {score_measure} score is {grid_search.best_score_}\")\n",
    "print(f\"... with parameters: {grid_search.best_params_}\")\n",
    "\n",
    "best_SVM_linear = grid_search.best_estimator_"
   ]
  },
  {
   "cell_type": "code",
   "execution_count": 45,
   "id": "3d2f3c76",
   "metadata": {
    "colab": {
     "base_uri": "https://localhost:8080/"
    },
    "id": "3d2f3c76",
    "outputId": "7483a2d2-fb14-4143-a2c3-dfc560558fe3"
   },
   "outputs": [
    {
     "name": "stdout",
     "output_type": "stream",
     "text": [
      "************************************\n",
      "Recall Score:     0.730909090909091\n",
      "************************************\n",
      "Accuracy Score:   0.8799675587996756\n",
      "Precision Score:  0.5759312320916905\n",
      "F1 Score:         0.6442307692307692\n",
      "************************************\n",
      "Confusion Matrix: [[2853  296]\n",
      " [ 148  402]]\n"
     ]
    }
   ],
   "source": [
    "y_pred = grid_search.predict(X_test)\n",
    "print(\"************************************\")\n",
    "print(f\"{'Recall Score:':18}{recall_score(y_test, y_pred)}\")\n",
    "print(\"************************************\")\n",
    "print(f\"{'Accuracy Score: ':18}{accuracy_score(y_test, y_pred)}\")\n",
    "print(f\"{'Precision Score: ':18}{precision_score(y_test, y_pred)}\")\n",
    "print(f\"{'F1 Score: ':18}{f1_score(y_test, y_pred)}\")\n",
    "print(\"************************************\")\n",
    "print(f\"{'Confusion Matrix: ':18}{confusion_matrix(y_test, y_pred)}\")"
   ]
  },
  {
   "cell_type": "code",
   "execution_count": 46,
   "id": "bf60f7de",
   "metadata": {
    "id": "bf60f7de"
   },
   "outputs": [],
   "source": [
    "svm_linear_grid_recall = recall_score(y_test, y_pred)"
   ]
  },
  {
   "cell_type": "markdown",
   "id": "96fef810",
   "metadata": {
    "id": "96fef810"
   },
   "source": [
    "# 3.7 Fit a SVM classification model using rbf kernal"
   ]
  },
  {
   "cell_type": "code",
   "execution_count": 47,
   "id": "dd9db041",
   "metadata": {
    "id": "dd9db041"
   },
   "outputs": [],
   "source": [
    "svm_rbf_model = SVC(kernel=\"rbf\")\n",
    "_ = svm_rbf_model.fit(X_train, np.ravel(y_train))"
   ]
  },
  {
   "cell_type": "code",
   "execution_count": 48,
   "id": "4c8e89a3",
   "metadata": {
    "colab": {
     "base_uri": "https://localhost:8080/"
    },
    "id": "4c8e89a3",
    "outputId": "7812886e-c619-4c5c-aa1d-0c1324ac758e"
   },
   "outputs": [
    {
     "name": "stdout",
     "output_type": "stream",
     "text": [
      "************************************\n",
      "Recall Score:     0.7490909090909091\n",
      "************************************\n",
      "Accuracy Score:   0.8675317653419843\n",
      "Precision Score:  0.5392670157068062\n",
      "F1 Score:         0.6270928462709285\n",
      "************************************\n",
      "Confusion Matrix: [[2797  352]\n",
      " [ 138  412]]\n"
     ]
    }
   ],
   "source": [
    "y_pred = svm_rbf_model.predict(X_test)\n",
    "print(\"************************************\")\n",
    "print(f\"{'Recall Score:':18}{recall_score(y_test, y_pred)}\")\n",
    "print(\"************************************\")\n",
    "print(f\"{'Accuracy Score: ':18}{accuracy_score(y_test, y_pred)}\")\n",
    "print(f\"{'Precision Score: ':18}{precision_score(y_test, y_pred)}\")\n",
    "print(f\"{'F1 Score: ':18}{f1_score(y_test, y_pred)}\")\n",
    "print(\"************************************\")\n",
    "print(f\"{'Confusion Matrix: ':18}{confusion_matrix(y_test, y_pred)}\")"
   ]
  },
  {
   "cell_type": "code",
   "execution_count": 49,
   "id": "5312312b",
   "metadata": {
    "id": "5312312b"
   },
   "outputs": [],
   "source": [
    "svm_rbf_default_recall = recall_score(y_test, y_pred)"
   ]
  },
  {
   "cell_type": "markdown",
   "id": "b0e538be",
   "metadata": {
    "id": "b0e538be"
   },
   "source": [
    "# 3.8 Fit a SVM classification model using rbf kernal with Random Search"
   ]
  },
  {
   "cell_type": "code",
   "execution_count": 50,
   "id": "eed86355",
   "metadata": {
    "colab": {
     "base_uri": "https://localhost:8080/"
    },
    "id": "eed86355",
    "outputId": "0d69b390-a0f1-4ee2-cc9d-6cbaed5142fc"
   },
   "outputs": [
    {
     "name": "stderr",
     "output_type": "stream",
     "text": [
      "/usr/local/lib/python3.9/dist-packages/sklearn/model_selection/_search.py:305: UserWarning: The total space of parameters 10 is smaller than n_iter=12. Running 10 iterations. For exhaustive searches, use GridSearchCV.\n",
      "  warnings.warn(\n"
     ]
    },
    {
     "name": "stdout",
     "output_type": "stream",
     "text": [
      "Fitting 2 folds for each of 10 candidates, totalling 20 fits\n",
      "The best recall score is 0.8127322080572094\n",
      "... with parameters: {'kernel': 'rbf', 'C': 14}\n"
     ]
    }
   ],
   "source": [
    "score_measure = \"recall\"\n",
    "kfolds = 2\n",
    "\n",
    "param_grid = {\n",
    "    'C': np.arange(5,15),\n",
    "    'kernel': ['rbf'],\n",
    "    \n",
    "}\n",
    "\n",
    "svm = SVC()\n",
    "rand_search = RandomizedSearchCV(estimator =svm, param_distributions=param_grid, cv=kfolds, n_iter=12,\n",
    "                           scoring=score_measure, verbose=1, n_jobs=-1,\n",
    "                           return_train_score=True)\n",
    "\n",
    "_ = rand_search.fit(X_train, np.ravel(y_train))\n",
    "\n",
    "print(f\"The best {score_measure} score is {rand_search.best_score_}\")\n",
    "print(f\"... with parameters: {rand_search.best_params_}\")\n",
    "\n",
    "best_SVM_linear = rand_search.best_estimator_"
   ]
  },
  {
   "cell_type": "code",
   "execution_count": 51,
   "id": "09092e1c",
   "metadata": {
    "colab": {
     "base_uri": "https://localhost:8080/"
    },
    "id": "09092e1c",
    "outputId": "3eb6f306-83a3-4cc9-98b6-a0cc18b94c9b"
   },
   "outputs": [
    {
     "name": "stdout",
     "output_type": "stream",
     "text": [
      "************************************\n",
      "Recall Score:     0.7345454545454545\n",
      "************************************\n",
      "Accuracy Score:   0.8675317653419843\n",
      "Precision Score:  0.5401069518716578\n",
      "F1 Score:         0.6224961479198767\n",
      "************************************\n",
      "Confusion Matrix: [[2805  344]\n",
      " [ 146  404]]\n"
     ]
    }
   ],
   "source": [
    "y_pred = rand_search.predict(X_test)\n",
    "print(\"************************************\")\n",
    "print(f\"{'Recall Score:':18}{recall_score(y_test, y_pred)}\")\n",
    "print(\"************************************\")\n",
    "print(f\"{'Accuracy Score: ':18}{accuracy_score(y_test, y_pred)}\")\n",
    "print(f\"{'Precision Score: ':18}{precision_score(y_test, y_pred)}\")\n",
    "print(f\"{'F1 Score: ':18}{f1_score(y_test, y_pred)}\")\n",
    "print(\"************************************\")\n",
    "print(f\"{'Confusion Matrix: ':18}{confusion_matrix(y_test, y_pred)}\")"
   ]
  },
  {
   "cell_type": "code",
   "execution_count": 52,
   "id": "8e288ee4",
   "metadata": {
    "id": "8e288ee4"
   },
   "outputs": [],
   "source": [
    "svm_rbf_rand_recall = recall_score(y_test, y_pred)"
   ]
  },
  {
   "cell_type": "markdown",
   "id": "d5c9168a",
   "metadata": {
    "id": "d5c9168a"
   },
   "source": [
    "# 3.9 Fit a SVM classification model using rbf kernal with Grid Search\n"
   ]
  },
  {
   "cell_type": "code",
   "execution_count": 53,
   "id": "2b88a3aa",
   "metadata": {
    "colab": {
     "base_uri": "https://localhost:8080/"
    },
    "id": "2b88a3aa",
    "outputId": "4e83e5e5-9eb2-4ed8-c6b3-9a2445e7e40d"
   },
   "outputs": [
    {
     "name": "stdout",
     "output_type": "stream",
     "text": [
      "Fitting 3 folds for each of 3 candidates, totalling 9 fits\n",
      "The best recall score is 0.8180924999716467\n",
      "... with parameters: {'C': 15}\n"
     ]
    }
   ],
   "source": [
    "score_measure = \"recall\"\n",
    "kfolds = 3\n",
    "\n",
    "C = rand_search.best_params_['C']\n",
    "\n",
    "param_grid = {\n",
    "    'C': [C+1,C,C-1]\n",
    "}\n",
    "\n",
    "svm_linear_model = SVC(kernel=\"rbf\")\n",
    "grid_search = GridSearchCV(estimator = svm_linear_model, param_grid=param_grid, cv=kfolds, \n",
    "                           scoring=score_measure, verbose=1, n_jobs=-1,  # n_jobs=-1 will utilize all available CPUs \n",
    "                           return_train_score=True)\n",
    "\n",
    "_ = grid_search.fit(X_train, np.ravel(y_train))\n",
    "\n",
    "print(f\"The best {score_measure} score is {grid_search.best_score_}\")\n",
    "print(f\"... with parameters: {grid_search.best_params_}\")\n",
    "\n",
    "best_SVM_linear = grid_search.best_estimator_"
   ]
  },
  {
   "cell_type": "code",
   "execution_count": 54,
   "id": "a6a1afeb",
   "metadata": {
    "colab": {
     "base_uri": "https://localhost:8080/"
    },
    "id": "a6a1afeb",
    "outputId": "21430ea5-648e-4e2f-d45f-4c0ee43a2863"
   },
   "outputs": [
    {
     "name": "stdout",
     "output_type": "stream",
     "text": [
      "************************************\n",
      "Recall Score:     0.7327272727272728\n",
      "************************************\n",
      "Accuracy Score:   0.8678021086780211\n",
      "Precision Score:  0.5409395973154363\n",
      "F1 Score:         0.6223938223938225\n",
      "************************************\n",
      "Confusion Matrix: [[2807  342]\n",
      " [ 147  403]]\n"
     ]
    }
   ],
   "source": [
    "y_pred = grid_search.predict(X_test)\n",
    "print(\"************************************\")\n",
    "print(f\"{'Recall Score:':18}{recall_score(y_test, y_pred)}\")\n",
    "print(\"************************************\")\n",
    "print(f\"{'Accuracy Score: ':18}{accuracy_score(y_test, y_pred)}\")\n",
    "print(f\"{'Precision Score: ':18}{precision_score(y_test, y_pred)}\")\n",
    "print(f\"{'F1 Score: ':18}{f1_score(y_test, y_pred)}\")\n",
    "print(\"************************************\")\n",
    "print(f\"{'Confusion Matrix: ':18}{confusion_matrix(y_test, y_pred)}\")"
   ]
  },
  {
   "cell_type": "code",
   "execution_count": 55,
   "id": "56882aef",
   "metadata": {
    "id": "56882aef"
   },
   "outputs": [],
   "source": [
    "svm_rbf_grid_recall = recall_score(y_test, y_pred)"
   ]
  },
  {
   "cell_type": "markdown",
   "id": "ace282b8",
   "metadata": {
    "id": "ace282b8"
   },
   "source": [
    "# 3.10 Fit a SVM classification model using polynomial kernal"
   ]
  },
  {
   "cell_type": "code",
   "execution_count": 56,
   "id": "3b4b79b0",
   "metadata": {
    "id": "3b4b79b0"
   },
   "outputs": [],
   "source": [
    "svm_poly_model = SVC(kernel=\"poly\", degree=3, coef0=1, C=10)\n",
    "_ = svm_poly_model.fit(X_train, np.ravel(y_train))"
   ]
  },
  {
   "cell_type": "code",
   "execution_count": 57,
   "id": "623d72f3",
   "metadata": {
    "colab": {
     "base_uri": "https://localhost:8080/"
    },
    "id": "623d72f3",
    "outputId": "2f5bd56c-0832-42e2-dabc-af4e1356f74b"
   },
   "outputs": [
    {
     "name": "stdout",
     "output_type": "stream",
     "text": [
      "************************************\n",
      "Recall Score:     0.7345454545454545\n",
      "************************************\n",
      "Accuracy Score:   0.8772641254393079\n",
      "Precision Score:  0.5674157303370787\n",
      "F1 Score:         0.6402535657686212\n",
      "************************************\n",
      "Confusion Matrix: [[2841  308]\n",
      " [ 146  404]]\n"
     ]
    }
   ],
   "source": [
    "y_pred = svm_poly_model.predict(X_test)\n",
    "print(\"************************************\")\n",
    "print(f\"{'Recall Score:':18}{recall_score(y_test, y_pred)}\")\n",
    "print(\"************************************\")\n",
    "print(f\"{'Accuracy Score: ':18}{accuracy_score(y_test, y_pred)}\")\n",
    "print(f\"{'Precision Score: ':18}{precision_score(y_test, y_pred)}\")\n",
    "print(f\"{'F1 Score: ':18}{f1_score(y_test, y_pred)}\")\n",
    "print(\"************************************\")\n",
    "print(f\"{'Confusion Matrix: ':18}{confusion_matrix(y_test, y_pred)}\")"
   ]
  },
  {
   "cell_type": "code",
   "execution_count": 58,
   "id": "f7d49355",
   "metadata": {
    "id": "f7d49355"
   },
   "outputs": [],
   "source": [
    "svm_poly_default_recall = recall_score(y_test, y_pred)"
   ]
  },
  {
   "cell_type": "markdown",
   "id": "dbd131c4",
   "metadata": {
    "id": "dbd131c4"
   },
   "source": [
    "# 3.11 Fit a SVM classification model using Polynomial kernal with Random Search"
   ]
  },
  {
   "cell_type": "code",
   "execution_count": 61,
   "id": "f94f3c45",
   "metadata": {
    "colab": {
     "base_uri": "https://localhost:8080/"
    },
    "id": "f94f3c45",
    "outputId": "01a2c2aa-70de-4142-ab17-4789bdcfb673"
   },
   "outputs": [
    {
     "name": "stdout",
     "output_type": "stream",
     "text": [
      "Fitting 2 folds for each of 5 candidates, totalling 10 fits\n",
      "The best recall score is 0.8285436805984695\n",
      "... with parameters: {'degree': 4, 'coef0': 5, 'C': 15}\n"
     ]
    }
   ],
   "source": [
    "score_measure = \"recall\"\n",
    "kfolds = 2\n",
    "\n",
    "param_rand = {\n",
    "    'C': [10,15],\n",
    "    'degree': [3,4],\n",
    "    'coef0': [4,5]\n",
    "\n",
    "}\n",
    "\n",
    "svm_poly_model = SVC(kernel=\"poly\")\n",
    "rand_search = RandomizedSearchCV(estimator = svm_poly_model, param_distributions=param_rand, cv=kfolds, n_iter=5,\n",
    "                           scoring=score_measure, verbose=1, n_jobs=-1,  # n_jobs=-1 will utilize all available CPUs \n",
    "                           return_train_score=True)\n",
    "\n",
    "_ = rand_search.fit(X_train,np.ravel(y_train))\n",
    "\n",
    "print(f\"The best {score_measure} score is {rand_search.best_score_}\")\n",
    "print(f\"... with parameters: {rand_search.best_params_}\")\n",
    "\n",
    "best_SVM_poly = rand_search.best_estimator_"
   ]
  },
  {
   "cell_type": "code",
   "execution_count": 62,
   "id": "3889ce30",
   "metadata": {
    "colab": {
     "base_uri": "https://localhost:8080/"
    },
    "id": "3889ce30",
    "outputId": "40ccf866-35ed-48cd-90c1-3470f3d87f24"
   },
   "outputs": [
    {
     "name": "stdout",
     "output_type": "stream",
     "text": [
      "************************************\n",
      "Recall Score:     0.7109090909090909\n",
      "************************************\n",
      "Accuracy Score:   0.8610435252771019\n",
      "Precision Score:  0.5241286863270778\n",
      "F1 Score:         0.6033950617283951\n",
      "************************************\n",
      "Confusion Matrix: [[2794  355]\n",
      " [ 159  391]]\n"
     ]
    }
   ],
   "source": [
    "y_pred = rand_search.predict(X_test)\n",
    "print(\"************************************\")\n",
    "print(f\"{'Recall Score:':18}{recall_score(y_test, y_pred)}\")\n",
    "print(\"************************************\")\n",
    "print(f\"{'Accuracy Score: ':18}{accuracy_score(y_test, y_pred)}\")\n",
    "print(f\"{'Precision Score: ':18}{precision_score(y_test, y_pred)}\")\n",
    "print(f\"{'F1 Score: ':18}{f1_score(y_test, y_pred)}\")\n",
    "print(\"************************************\")\n",
    "print(f\"{'Confusion Matrix: ':18}{confusion_matrix(y_test, y_pred)}\")"
   ]
  },
  {
   "cell_type": "code",
   "execution_count": 63,
   "id": "59e97092",
   "metadata": {
    "id": "59e97092"
   },
   "outputs": [],
   "source": [
    "svm_poly_rand_recall = recall_score(y_test, y_pred)"
   ]
  },
  {
   "cell_type": "markdown",
   "id": "716a3af2",
   "metadata": {
    "id": "716a3af2"
   },
   "source": [
    "# 3.12 Fit a SVM classification model using Polynomial kernal with Grid Search"
   ]
  },
  {
   "cell_type": "code",
   "execution_count": 65,
   "id": "7ced13a5",
   "metadata": {
    "colab": {
     "base_uri": "https://localhost:8080/"
    },
    "id": "7ced13a5",
    "outputId": "f9db40d6-2f26-4e65-983d-f20527f7d530"
   },
   "outputs": [
    {
     "name": "stdout",
     "output_type": "stream",
     "text": [
      "Fitting 2 folds for each of 3 candidates, totalling 6 fits\n",
      "The best recall score is 0.829781190931851\n",
      "... with parameters: {'C': 16, 'coef0': 5, 'degree': 4}\n"
     ]
    }
   ],
   "source": [
    "score_measure = \"recall\"\n",
    "kfolds = 2\n",
    "\n",
    "degree = rand_search.best_params_['degree']\n",
    "coef0 = rand_search.best_params_['coef0']\n",
    "C = rand_search.best_params_['C']\n",
    "param_grid = {\n",
    "    'C': [C-1,C,C+1],\n",
    "    'degree': [degree],\n",
    "    'coef0': [coef0],\n",
    "}\n",
    "\n",
    "svm_poly_model = SVC(kernel=\"poly\")\n",
    "grid_search = GridSearchCV(estimator = svm_poly_model, param_grid=param_grid, cv=kfolds, \n",
    "                           scoring=score_measure, verbose=1, n_jobs=-1,  # n_jobs=-1 will utilize all available CPUs \n",
    "                           return_train_score=True)\n",
    "\n",
    "_ = grid_search.fit(X_train, np.ravel(y_train))\n",
    "\n",
    "print(f\"The best {score_measure} score is {grid_search.best_score_}\")\n",
    "print(f\"... with parameters: {grid_search.best_params_}\")\n",
    "\n",
    "best_SVM_poly = grid_search.best_estimator_"
   ]
  },
  {
   "cell_type": "code",
   "execution_count": 66,
   "id": "27f462da",
   "metadata": {
    "colab": {
     "base_uri": "https://localhost:8080/"
    },
    "id": "27f462da",
    "outputId": "b11de954-cd97-4742-d012-6b0ef696ae25"
   },
   "outputs": [
    {
     "name": "stdout",
     "output_type": "stream",
     "text": [
      "************************************\n",
      "Recall Score:     0.7109090909090909\n",
      "************************************\n",
      "Accuracy Score:   0.8623952419572858\n",
      "Precision Score:  0.5276653171390013\n",
      "F1 Score:         0.6057319907048799\n",
      "************************************\n",
      "Confusion Matrix: [[2799  350]\n",
      " [ 159  391]]\n"
     ]
    }
   ],
   "source": [
    "y_pred = grid_search.predict(X_test)\n",
    "print(\"************************************\")\n",
    "print(f\"{'Recall Score:':18}{recall_score(y_test, y_pred)}\")\n",
    "print(\"************************************\")\n",
    "print(f\"{'Accuracy Score: ':18}{accuracy_score(y_test, y_pred)}\")\n",
    "print(f\"{'Precision Score: ':18}{precision_score(y_test, y_pred)}\")\n",
    "print(f\"{'F1 Score: ':18}{f1_score(y_test, y_pred)}\")\n",
    "print(\"************************************\")\n",
    "print(f\"{'Confusion Matrix: ':18}{confusion_matrix(y_test, y_pred)}\")"
   ]
  },
  {
   "cell_type": "code",
   "execution_count": 67,
   "id": "4ab43e39",
   "metadata": {
    "id": "4ab43e39"
   },
   "outputs": [],
   "source": [
    "svm_poly_grid_recall = recall_score(y_test, y_pred)"
   ]
  },
  {
   "cell_type": "markdown",
   "id": "ecc78042",
   "metadata": {
    "id": "ecc78042"
   },
   "source": [
    "# 3.13 Fit a DTree classification model using defaults (unconstrained tree)"
   ]
  },
  {
   "cell_type": "code",
   "execution_count": 22,
   "id": "9a75ee02",
   "metadata": {
    "id": "9a75ee02"
   },
   "outputs": [],
   "source": [
    "dtree = DecisionTreeClassifier()\n",
    "_=dtree.fit(X_train, np.ravel(y_train))"
   ]
  },
  {
   "cell_type": "code",
   "execution_count": 23,
   "id": "2d71f60e",
   "metadata": {
    "colab": {
     "base_uri": "https://localhost:8080/"
    },
    "id": "2d71f60e",
    "outputId": "d15c3acd-6866-4f61-90bb-7f9555cdc678"
   },
   "outputs": [
    {
     "name": "stdout",
     "output_type": "stream",
     "text": [
      "************************************\n",
      "Recall Score:     0.5709090909090909\n",
      "************************************\n",
      "Accuracy Score:   0.862124898621249\n",
      "Precision Score:  0.5340136054421769\n",
      "F1 Score:         0.5518453427065027\n",
      "************************************\n",
      "Confusion Matrix: [[2875  274]\n",
      " [ 236  314]]\n"
     ]
    }
   ],
   "source": [
    "y_pred = dtree.predict(X_test)\n",
    "print(\"************************************\")\n",
    "print(f\"{'Recall Score:':18}{recall_score(y_test, y_pred)}\")\n",
    "print(\"************************************\")\n",
    "print(f\"{'Accuracy Score: ':18}{accuracy_score(y_test, y_pred)}\")\n",
    "print(f\"{'Precision Score: ':18}{precision_score(y_test, y_pred)}\")\n",
    "print(f\"{'F1 Score: ':18}{f1_score(y_test, y_pred)}\")\n",
    "print(\"************************************\")\n",
    "print(f\"{'Confusion Matrix: ':18}{confusion_matrix(y_test, y_pred)}\")"
   ]
  },
  {
   "cell_type": "code",
   "execution_count": 24,
   "id": "e54bef4f",
   "metadata": {
    "id": "e54bef4f"
   },
   "outputs": [],
   "source": [
    "dtree_default_recall = recall_score(y_test, y_pred)"
   ]
  },
  {
   "cell_type": "markdown",
   "id": "6b1a0925",
   "metadata": {
    "id": "6b1a0925"
   },
   "source": [
    "# 3.14 Fit a Decision Tree Classifier model with Random Search"
   ]
  },
  {
   "cell_type": "code",
   "execution_count": 25,
   "id": "68285a7b",
   "metadata": {
    "colab": {
     "base_uri": "https://localhost:8080/"
    },
    "id": "68285a7b",
    "outputId": "0bbc0787-fdc1-4723-d348-eb99a0673ac1"
   },
   "outputs": [
    {
     "name": "stdout",
     "output_type": "stream",
     "text": [
      "Fitting 5 folds for each of 100 candidates, totalling 500 fits\n",
      "Best parameters found:  {'min_samples_split': 2, 'min_samples_leaf': 125, 'min_impurity_decrease': 0.0006, 'max_leaf_nodes': 2567, 'max_depth': 1667, 'criterion': 'entropy'}\n"
     ]
    }
   ],
   "source": [
    "# Criterion used to guide data splits\n",
    "criterion = ['gini', 'entropy']\n",
    "\n",
    "# Maximum number of levels in tree. If None, then nodes are expanded until all leaves are pure or until all \n",
    "# leaves contain less than min_samples_split samples.\n",
    "# default = None\n",
    "max_depth = [int(x) for x in np.linspace(1, 5000, 25)]\n",
    "\n",
    "# Minimum number of samples required to split a node\n",
    "# default is 2\n",
    "min_samples_split = [int(x) for x in np.linspace(2, 5000, 25)]\n",
    "\n",
    "# Minimum number of samples required at each leaf node\n",
    "# default = 1 \n",
    "min_samples_leaf = [int(x) for x in np.linspace(1, 500, 5)]\n",
    "\n",
    "# max_leaf_nodes  - Grow trees with max_leaf_nodes in best-first fashion.\n",
    "# If None then unlimited number of leaf nodes.\n",
    "# default=None \n",
    "max_leaf_nodes = [int(x) for x in np.linspace(2, len(y_test), 50)]\n",
    "max_leaf_nodes.append(None)\n",
    "\n",
    "# min_impurity_decrease - A node will be split if this split induces a decrease of the impurity greater than or equal to this value.\n",
    "# default=0.0\n",
    "min_impurity_decrease = [x for x in np.arange(0.0, 0.01, 0.0001).round(5)]\n",
    "\n",
    "# Create the random grid\n",
    "param_grid_random = { 'criterion': criterion,\n",
    "                      'max_depth': max_depth,\n",
    "                      'min_samples_split': min_samples_split,\n",
    "                      'min_samples_leaf' : min_samples_leaf,\n",
    "                      'max_leaf_nodes' : max_leaf_nodes,\n",
    "                      'min_impurity_decrease' : min_impurity_decrease,\n",
    "                     }\n",
    "\n",
    "best_random_search_model = RandomizedSearchCV(\n",
    "        estimator=DecisionTreeClassifier(), \n",
    "        scoring='recall', \n",
    "        param_distributions=param_grid_random, \n",
    "        n_iter = 100, random_state=1,\n",
    "        cv=5, \n",
    "        verbose=1, \n",
    "        n_jobs = -1\n",
    "    )\n",
    "_ = best_random_search_model.fit(X_train, np.ravel(y_train))\n",
    "random_search_best_params = best_random_search_model.best_params_\n",
    "print('Best parameters found: ', random_search_best_params)"
   ]
  },
  {
   "cell_type": "code",
   "execution_count": 26,
   "id": "51243e3b",
   "metadata": {
    "colab": {
     "base_uri": "https://localhost:8080/"
    },
    "id": "51243e3b",
    "outputId": "3f6b3fb2-a5af-46bd-e54b-1909399eab54"
   },
   "outputs": [
    {
     "name": "stdout",
     "output_type": "stream",
     "text": [
      "************************************\n",
      "Recall Score:     0.8490909090909091\n",
      "************************************\n",
      "Accuracy Score:   0.8288726682887266\n",
      "Precision Score:  0.4591937069813176\n",
      "F1 Score:         0.5960433950223356\n",
      "************************************\n",
      "Confusion Matrix: [[2599  550]\n",
      " [  83  467]]\n"
     ]
    }
   ],
   "source": [
    "y_pred = best_random_search_model.predict(X_test)\n",
    "print(\"************************************\")\n",
    "print(f\"{'Recall Score:':18}{recall_score(y_test, y_pred)}\")\n",
    "print(\"************************************\")\n",
    "print(f\"{'Accuracy Score: ':18}{accuracy_score(y_test, y_pred)}\")\n",
    "print(f\"{'Precision Score: ':18}{precision_score(y_test, y_pred,zero_division=1)}\")\n",
    "print(f\"{'F1 Score: ':18}{f1_score(y_test, y_pred)}\")\n",
    "print(\"************************************\")\n",
    "print(f\"{'Confusion Matrix: ':18}{confusion_matrix(y_test, y_pred)}\")"
   ]
  },
  {
   "cell_type": "code",
   "execution_count": 27,
   "id": "c92786e1",
   "metadata": {
    "id": "c92786e1"
   },
   "outputs": [],
   "source": [
    "dtree_rand_recall = recall_score(y_test, y_pred)"
   ]
  },
  {
   "cell_type": "markdown",
   "id": "f451ca2e",
   "metadata": {
    "id": "f451ca2e"
   },
   "source": [
    "# 3.15 Fit a Decision Tree Classifier model with Grid Search"
   ]
  },
  {
   "cell_type": "code",
   "execution_count": 37,
   "id": "f05574fd",
   "metadata": {
    "colab": {
     "base_uri": "https://localhost:8080/"
    },
    "id": "f05574fd",
    "outputId": "25575fa3-42a1-40b1-9275-eecbdb99b433"
   },
   "outputs": [
    {
     "name": "stdout",
     "output_type": "stream",
     "text": [
      "Fitting 5 folds for each of 2048 candidates, totalling 10240 fits\n"
     ]
    }
   ],
   "source": [
    "plus_minus = 4\n",
    "increment = 2\n",
    "\n",
    "param_grid = { 'min_samples_split': [x for x in range(random_search_best_params['min_samples_split']-plus_minus, random_search_best_params['min_samples_split']+plus_minus,2) if x >= 2],       \n",
    "              'min_samples_leaf': [x for x in range(random_search_best_params['min_samples_leaf']-plus_minus , random_search_best_params['min_samples_leaf']+plus_minus,2) if x > 0],\n",
    "              'min_impurity_decrease': [x for x in np.arange(random_search_best_params['min_impurity_decrease']-0.001, random_search_best_params['min_impurity_decrease']+0.001,.0001).round(5) if x >= 0.000],\n",
    "              'max_leaf_nodes':[x for x in range(random_search_best_params['max_leaf_nodes']-plus_minus , random_search_best_params['max_leaf_nodes']+plus_minus, 2) if x > 1],  \n",
    "              'max_depth': [x for x in range(random_search_best_params['max_depth']-plus_minus , random_search_best_params['max_depth']+plus_minus, 2) if x > 1],\n",
    "              'criterion': [random_search_best_params['criterion']]\n",
    "              }\n",
    "\n",
    "best_grid_search_model = GridSearchCV(estimator=DecisionTreeClassifier(), \n",
    "                                    scoring='recall', param_grid=param_grid, cv=5, verbose=1,  n_jobs = -1)\n",
    "_ = best_grid_search_model.fit(X_train, y_train)"
   ]
  },
  {
   "cell_type": "code",
   "execution_count": 38,
   "id": "21859c7d",
   "metadata": {
    "colab": {
     "base_uri": "https://localhost:8080/"
    },
    "id": "21859c7d",
    "outputId": "18a3d339-f2f7-4fa1-bd4e-28eeac87a256"
   },
   "outputs": [
    {
     "name": "stdout",
     "output_type": "stream",
     "text": [
      "Best parameters found:  {'criterion': 'entropy', 'max_depth': 1663, 'max_leaf_nodes': 2563, 'min_impurity_decrease': 0.0008, 'min_samples_leaf': 125, 'min_samples_split': 2}\n"
     ]
    }
   ],
   "source": [
    "print('Best parameters found: ', best_grid_search_model.best_params_)"
   ]
  },
  {
   "cell_type": "code",
   "execution_count": 39,
   "id": "ca581926",
   "metadata": {
    "colab": {
     "base_uri": "https://localhost:8080/"
    },
    "id": "ca581926",
    "outputId": "886c9f8e-565c-4666-fdaa-f45ac5a6b96f"
   },
   "outputs": [
    {
     "name": "stdout",
     "output_type": "stream",
     "text": [
      "************************************\n",
      "Recall Score:     0.8345454545454546\n",
      "************************************\n",
      "Accuracy Score:   0.8450932684509327\n",
      "Precision Score:  0.487778958554729\n",
      "F1 Score:         0.6156941649899396\n",
      "************************************\n",
      "Confusion Matrix: [[2667  482]\n",
      " [  91  459]]\n"
     ]
    }
   ],
   "source": [
    "y_pred = best_grid_search_model.predict(X_test)\n",
    "print(\"************************************\")\n",
    "print(f\"{'Recall Score:':18}{recall_score(y_test, y_pred)}\")\n",
    "print(\"************************************\")\n",
    "print(f\"{'Accuracy Score: ':18}{accuracy_score(y_test, y_pred)}\")\n",
    "print(f\"{'Precision Score: ':18}{precision_score(y_test, y_pred,zero_division=1)}\")\n",
    "print(f\"{'F1 Score: ':18}{f1_score(y_test, y_pred)}\")\n",
    "print(\"************************************\")\n",
    "print(f\"{'Confusion Matrix: ':18}{confusion_matrix(y_test, y_pred)}\")"
   ]
  },
  {
   "cell_type": "code",
   "execution_count": 40,
   "id": "1fba875e",
   "metadata": {
    "id": "1fba875e"
   },
   "outputs": [],
   "source": [
    "dtree_grid_recall = recall_score(y_test, y_pred)"
   ]
  },
  {
   "cell_type": "markdown",
   "id": "69bd0744",
   "metadata": {
    "id": "69bd0744"
   },
   "source": [
    "# 4.0 Summarize results"
   ]
  },
  {
   "cell_type": "code",
   "execution_count": 73,
   "id": "16efe952",
   "metadata": {
    "colab": {
     "base_uri": "https://localhost:8080/"
    },
    "id": "16efe952",
    "outputId": "11915186-c930-4b08-a307-059e399d810a"
   },
   "outputs": [
    {
     "name": "stdout",
     "output_type": "stream",
     "text": [
      "Recall scores...\n",
      "**************************************\n",
      "Decision Tree Random Search:0.8490909090909091\n",
      "**************************************\n",
      "Decision Tree Grid Search:0.8345454545454546\n",
      "Decision Tree deafult:0.5709090909090909\n",
      "SVM Poly Grid Search:0.7109090909090909\n",
      "SVM Poly Random Search:0.7109090909090909\n",
      "SVM Poly deafult: 0.7345454545454545\n",
      "SVM rbf Grid Search:0.7327272727272728\n",
      "SVM rbf Random Search:0.7345454545454545\n",
      "SVM rbf deafult:  0.7490909090909091\n",
      "SVM Linear Grid Search:0.730909090909091\n",
      "SVM Linear Random Search:0.730909090909091\n",
      "SVM Linear deafult:0.730909090909091\n",
      "Logistic Regression Grid Search:0.7454545454545455\n",
      "Logistic Regressionr Random Search:0.7454545454545455\n",
      "Logistic Regression deafult:0.7454545454545455\n"
     ]
    }
   ],
   "source": [
    "print(\"Recall scores...\")\n",
    "print(\"**************************************\")\n",
    "print(f\"{'Decision Tree Random Search:':18}{dtree_rand_recall}\")\n",
    "print(\"**************************************\")\n",
    "print(f\"{'Decision Tree Grid Search:':18}{dtree_grid_recall}\")\n",
    "print(f\"{'Decision Tree deafult:':18}{dtree_default_recall}\")\n",
    "print(f\"{'SVM Poly Grid Search:':18}{svm_poly_grid_recall}\")\n",
    "print(f\"{'SVM Poly Random Search:':18}{svm_poly_rand_recall}\")\n",
    "print(f\"{'SVM Poly deafult:':18}{svm_poly_default_recall}\")\n",
    "print(f\"{'SVM rbf Grid Search:':18}{svm_rbf_grid_recall}\")\n",
    "print(f\"{'SVM rbf Random Search:':18}{svm_rbf_rand_recall}\")\n",
    "print(f\"{'SVM rbf deafult:':18}{svm_rbf_default_recall}\")\n",
    "print(f\"{'SVM Linear Grid Search:':18}{svm_linear_grid_recall}\")\n",
    "print(f\"{'SVM Linear Random Search:':18}{svm_linear_rand_recall}\")\n",
    "print(f\"{'SVM Linear deafult:':18}{svm_linear_default_recall}\")\n",
    "print(f\"{'Logistic Regression Grid Search:':18}{lr_grid_recall}\")\n",
    "print(f\"{'Logistic Regressionr Random Search:':18}{lr_rand_recall}\")\n",
    "print(f\"{'Logistic Regression deafult:':18}{lr_default_recall}\")\n"
   ]
  },
  {
   "cell_type": "markdown",
   "id": "f76182e1",
   "metadata": {
    "id": "BaI5RSJPbrzi"
   },
   "source": [
    "##### As the company is new to market and they want to improve potential customer in coming three year regardless of their marketing budget spending  so we used recall score. from the above models we got good Recall score of 84.9% for Decision tree Random search followed by 83.4% for Decision Tree Grid Search."
   ]
  }
 ],
 "metadata": {
  "colab": {
   "provenance": []
  },
  "kernelspec": {
   "display_name": "Python 3 (ipykernel)",
   "language": "python",
   "name": "python3"
  },
  "language_info": {
   "codemirror_mode": {
    "name": "ipython",
    "version": 3
   },
   "file_extension": ".py",
   "mimetype": "text/x-python",
   "name": "python",
   "nbconvert_exporter": "python",
   "pygments_lexer": "ipython3",
   "version": "3.9.12"
  }
 },
 "nbformat": 4,
 "nbformat_minor": 5
}
